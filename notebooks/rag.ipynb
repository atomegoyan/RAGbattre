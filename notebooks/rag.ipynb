{
 "cells": [
  {
   "cell_type": "code",
   "execution_count": 1,
   "metadata": {},
   "outputs": [
    {
     "name": "stderr",
     "output_type": "stream",
     "text": [
      "/lre/home/apellet/anaconda3/envs/debattre-generate-questions/lib/python3.13/site-packages/tqdm/auto.py:21: TqdmWarning: IProgress not found. Please update jupyter and ipywidgets. See https://ipywidgets.readthedocs.io/en/stable/user_install.html\n",
      "  from .autonotebook import tqdm as notebook_tqdm\n",
      "2025-05-12 15:31:45.006 WARNING streamlit.runtime.caching.cache_data_api: No runtime found, using MemoryCacheStorageManager\n",
      "Some weights of the model checkpoint at Alibaba-NLP/gte-multilingual-base were not used when initializing NewModel: ['classifier.bias', 'classifier.weight']\n",
      "- This IS expected if you are initializing NewModel from the checkpoint of a model trained on another task or with another architecture (e.g. initializing a BertForSequenceClassification model from a BertForPreTraining model).\n",
      "- This IS NOT expected if you are initializing NewModel from the checkpoint of a model that you expect to be exactly identical (initializing a BertForSequenceClassification model from a BertForSequenceClassification model).\n"
     ]
    }
   ],
   "source": [
    "import pandas as pd\n",
    "import numpy\n",
    "import os\n",
    "from sentence_transformers import SentenceTransformer\n",
    "\n",
    "import chromadb\n",
    "from chromadb.utils import embedding_functions\n",
    "\n",
    "import chromadb\n",
    "\n",
    "import ollama\n",
    "\n",
    "\n",
    "import sys\n",
    "sys.path.append(os.getcwd())\n",
    "from retrieval_app.retrieval.core import (\n",
    "    initialize_chromadb,\n",
    "    query_documents,\n",
    "    get_available_collections,\n",
    "    load_example_questions,\n",
    "    query_seance,\n",
    "    query_documents_filtered,\n",
    "    query_documents_regex_filtering,\n",
    "    query_documents_reranking\n",
    ")\n",
    "from retrieval_app.ollama_utils import (\n",
    "    get_available_models,\n",
    "    get_ollama_response,\n",
    "    simple\n",
    ")\n",
    "from retrieval_app.config import BASE_DIR, DATA_DIR, DEFAULT_QUERY, DEFAULT_COLLECTION, DEFAULT_EMBEDDING_MODEL, EMBEDDINGS_DIR, EXAMPLE_QUESTIONS_FILE, CORPUS_DIR\n",
    "\n",
    "\n",
    "\n",
    "BASE_DIR = os.getcwd()\n",
    "DATA_DIR = os.path.join(BASE_DIR,'data')\n",
    "path_to_embeddings = os.path.join(DATA_DIR,\"corpus_splitted_cs1\")\n",
    "\n",
    "client = chromadb.PersistentClient(path = os.path.join(DATA_DIR,\"embeddings_cs1\"))\n",
    "st_ef = embedding_functions.SentenceTransformerEmbeddingFunction(model_name=\"Alibaba-NLP/gte-multilingual-base\",trust_remote_code=True,device=\"cuda\",normalize_embeddings=True)\n",
    "\n",
    "collections_list = client.list_collections()\n",
    "collections_list\n",
    "\n",
    "collection = client.get_collection(name=collections_list[0],embedding_function=st_ef)\n"
   ]
  },
  {
   "cell_type": "markdown",
   "metadata": {},
   "source": [
    "## retriever"
   ]
  },
  {
   "cell_type": "code",
   "execution_count": 6,
   "metadata": {},
   "outputs": [
    {
     "data": {
      "text/plain": [
       "['.',\n",
       " 'CHAMBRE DES DÉPUTÉS Session ordinaire de 1881',\n",
       " \"COIPTE RENDU IN EXTENSO. - 28 SÉANCE Séance du 20 janvier 1881 SOMMAIRE Incident : M. Cuneo d'Ornano.\\n\\nCommunication, par M. le président, d'une lettre par laquelle M. le marquisleValfons décline toute candidature aux fonctions de secrétaire.\\n\\nExcuses et demandes de congés.\\n\\nAllocution de M. le président d âge.\\n\\nTirage au sort des scrutateurs et scrutin pour la nomination du président définitif, Scrutin pour la nomination des quatre vice-présidents.\\n\\nScrutin pour la nomination des huit secrétaires.\\n\\nScrutin pour l'élection des trois questeurs. Annulatioa pour défaut de nombre et renvoi àdemain.\\n\\nDeuxième tour de scrutin pour l'élection d'un quatrième vice-président. - Annulation pour défaut de nombre et renvoi à demain.\",\n",
       " \"PBÉSIDBNCB DE M. DESSBAUX, DOYEN D'AGE.\\n\\nLa séance est ouverte à deux heures dixminuttS.\\n\\nMDreyfas, l'un des secrétaires provisoires, donne lecture du procès-verbal de la séance du11janvier.\\n\\n- SI. Cuneo d'Ornano. Je demande la parole M. le président M. Cuneo d'Ornano a la parole fur le procès-verbal.\\n\\nM Cuneo d'Ornano. Messieurs, dans la dernière séance, qui a été la première de cette session, on a ajourné à la prochaine séance les scrutins pour la constitution du bureau; aajour- d'hui, je viens demander l'ajournement de ces scrutins. (Protestations nombreuses )Plusieursmembres au etntre et a gauche.\\n\\nMais vous ne parlez pas du procès-verbal!\\n\\nM le président. Vous ne parlez pas sur le procès-verbal. Je vais d'abord le mettre auxToix.\\n\\naU(Le procès-verbal est mis aux voix et adopté.) INCIDENT M. le président. Maintenant, monsieur Caneo d'Ornano, vous avez la parole.\\n\\nM.Cuneo d'Ornano. Voici pourquoi j ai l'honneur de demander à la Chambre de voaloir bien ajourner les scrutins pour la constitution de son bureau. Si nous procédons à la constitution du bureau ordinaire aujourd'hui, nous procéderons pour la cinquième tois à une opération de ce genre; or, nousliesommes nommés que pour quatre années. (Exclama-:tions et interruptionsàgauche.) Je comprends que cela déplaise à un grand nombre de mes collègues de la gauche; je comprends que cette proposition soit peu sé- durante pour eux ; mais la question n'est pas celle-là : la question est de,.,oirsi nous avons le droit de siéger une année de plus.\\n\\n(Nouvelles exclamations a gauche.) M. Peulevey. Ce n'est pas la question tK.Allain Targé. Ce n'est pas le moment de nous occuper de cette question.\\n\\nM. Cuneo d'Ornano. M. Allain large me dit que ce n'est pas le moment de poser cette question. Je vous demande pardon, et je vous demande aussi la permission de dire pourquoic'estla question.n;.&~oT<tMnMAlIatDTargé. Il faut précisément un bureau pour dscuter cettequtation-li,(Tièi-bien! très-bienIâgauche.)\\n\\nM. Cuneo d'Ornano. Nous avons, en novembre 1877, procélé pour la première fois à Sélection de notre bureau ordinaire, et nous avons procéié, pour la première fois aussi) au vot du bidget ordinaire de 1878.\\n\\nM. Peulevey. Il ne s'agit pas du budget !\\n\\nM. Cuneo d'Ornano. Si maintenant vous constituez votre bureau, ce sera le cinquième bureau ordinaire que vous nommerez.\\n\\nM. Allain Targé. Je répète qu'il faut un bureau pour discuter Ja question que vous po.\\n\\nsez. Je demande la question préalable. (Marques d'assentiment à gauche.) M. Cuneo d'Ornano. J'ajoute que si vous acceptez d'être saisis d'an nouveau budget, ce sera le cinquième budget ordinaire que vous voterez, et alors vous compléterez, par une usurpation nouvelle, les usurpations que, depuis 1870, la République a entreprises contre le suffrage universel. (Exclamations et mur.\\n\\nmures à gauche et au centre.) Je me borne à cette protestation, et devant1smanifestations de ce côté de la Chambre (L'orateur indique la gauche), qui parait redouter le verdict des électeurs, je déclare que, dès aujourd'hui, vous empiétez sur les droits du peuple souverain. (Nouvelles exclamations à gauche.) M. le président. Veuillez vous expliquer, monsieur Cuneo d'Ornano, sur ce que vous entendez dire en parlant d'usurpations depoilvoir.que vous reprochez à la Chambre.\\n\\nM. Guneo d'Ornano. L'honorable président me demande.\\n\\nUn membre à gauche. La question préalable!\\n\\nM. Cuneo d'Ornano. Non, il ne demande pas la question préalable. ,\\n\\nPlutiturs membres à gauche. C'est nous qui la demandons 1 M. Cuneo d'Ornano. Je comprends votre impatience et votre inquiétude, messieurs.\\n\\nPlusiturs membres à gauche. Vous faites perdre le temps de la Chambre.\\n\\nM. Cuneo d'Ornano. Non! la question n'est pas de vous faire perdre votre temps, c'est de ne pàs faite perdre du temps au pays qui est notre maître à tous.\\n\\nIl s'agit de savoir, —et la question est grave, — si notre mandat est épuisé, si vous êtes encore les représentants du pays.\\n\\nM. Allain-Targé. il faut un bureau pour discuter cela.\\n\\nM. le président. Monsieur Cuneo d'Ornano, veuillez répondre à la question que je vous ai adressée. Expliquez les paroles que vous avez prononcées. Persistez-vous à dire qu'en continuant ses travaux, la Chambre continuerait le cours de ses usurpations?\\n\\nM. Cuneo d'Ornano. M. le président me demande si je persiste à dire qu'en maintenant votre mandat pendant cette année, vous continueriez le cours des usurpations..* (A.\\n\\nl'ordre! à l'ordre!) Je réponds à M. le président.\\n\\nM. Chaley. Vous voulez entraver les travaux de la Chambre.\\n\\nM. Cuneo d'Ornano. Il ne s'agit pas des travaux de la Chambre. Si la Chambre n'a plus le droit de siéger, elle n'a pas de travaux a continuer, elle doit se dissoudre, se dis- perser, en appeler au peuple.\\n\\nM. Allain-Targé. Eh bien, dispersez-vous, en nous laissantvuter.\\n\\nVous n'avez pas le droit de parler.\\n\\nM. Paul Bert. Nous ne sommes plus au 2 décembre, monsieur ; nous nous disperserons quand le jour sera venu; vous n'avez pas, vous, à disperser l'Assemblée.\\n\\nM. Cuneo d'Ornano. On a discuté à la première séance.\\n\\nJe demande à M. Allain-Targé, qui parait plus particulièrement préoccupé d'aller devant le peuple, — il a sans doute des motifs pour cela - si on a discuté à la première séance ?\\n\\nOui.Pourquoi donc a-t-on discuté?\\n\\nsi, Allain-Targé, Je dis que ei nous n'a-\\n\\nvons pas le droit de constituer le bureau, vous n'avez pas le droit de garder la parole.\\n\\nM. Cuneo d'Ornano. Consentez-vousialler devant le pays? (Vives exclamations à gauche et au centre.) M. le président. Monsieur Cuneo d'Ornano, vous avez dirigé contre la Chambre des attaques qu'elle ne mérite pas, je vous rap.\\n\\npelle à l'ordre. (Très-bien ! très-bien l à gau.\\n\\nche.) M. Cuneo d'Ornano. Je n'insiste pas.\\n\\nFois diverses à gauche. A l'ordre 1 —Liquestion préalable ! — L'ordre du jour 1 l'ordre du jour !\\n\\nM. Cuneo d'Ornano. Je n'ai pas dit qua vous usurpiez, mais j'ai dit que vous alliez usurper le droit de suffrage universel; voilà ce que j'ai dit, et je le maintiens ] M. le président. Je mantiens le rappel à l'ordre. (Très-bien 1 très-bien 1) LETTRE DE M. LE MARQUIS DE VALFONS M. le président. J'ai reçu de M. le marquis de Valfons la lettre suivante : a Le 12 janvier 1881.\\n\\n1Monsieur le président,1Pendant trois ans, j'ai siégé comme secrétaire du bureau de la Chambre des députés.\\n\\n1Je viens aujourd'hui décliner toute candidature. M. Lorois, président du groupe auquel j'appartiens, a déjà été prévenu de ma résolution ; je l'ai prié de designer à la Chambre un autre de mes collègues pour un honneur qui ne doit pas être toujours exclusivement réservé à la même personne.\\n\\n1Recevez, monsieur le président, l'expression de mes sentiments respectueux.\\n\\nc Marquis DE VALFONS, « député du Gard. »\",\n",
       " \"EXCUSES ET DEMANDES DE CONGÉS MM. Dautresme, Bourgeois, Labuze,Hémon,Monteils et Péronne, s'excusent de ne pouvoir assister aux premières séances de la Chambre.\\n\\nMM. Descamps, Harispe, Fauré (Gers), David (Indre), et Chavoix demandent des congés.\\n\\nLes demandes seront renvoyées à la commiasion des congés.\",\n",
       " \"ALLOCUTION DE M. LE PRÉSIDENT D'AGE\\n\\nM. le président. Messieurs, je ne puis terminer la mission que le règlement m'a confiée.\\n\\nVoix à droite. Elle n'est pas terminée. M. le président.et laisser passer le commencement de notre dernière session sans vous remercier des marques de bienveillance dont vous avez honoré votre doyen d'âge. Ce sera pour moi un souvenir précieux ; je vous en exprime toute ma reconnaissance.\\n\\nQuel que soit le jugement que l'on porte sur les travaux de cette assemblée, on ne pourra contester ni son dévouement aux principes d'une sage et libérale démocratie, ni sa modération dans l'application de ces principes.\\n\\n(Réclamations à droite. — Non ! non ! à gauche.) EUe&su résister avec une égale fermeté aux entreprises réactionnaires. (Réclamations a droite) comme aux aspirations ultra radicales.\\n\\nSans doute, nous n'avons pas réalisé toutes les réformes que réclamait l'opinion publique; mais, pour compléter cette partie de notre tâche, nous lèguerons à nos successeurs de consciencieuses études. Paissent-ils, plus heureux que nous, voir le terme des discordes qui, depuis trop longtemps, ont agité notre pays, et dont le contre-coup a parfois retenti dans cette en.\\n\\nceinte. Puissent-ils rallier au principe du Gouvernement tous ceux que n'aveugle. pas la paso\\n\\nBion politique ; tousceuxqui, s'ils consultent leur patriotisme, doivent comprendre que l'avenir, Ja prospérité,!agrandeur de la France se rattachent, par des liens désormais in lissolubles, au maintien et à la consolidation de la République. (Vifs applaudissements à gauche et au centre.) M. Keller. Et de la liberté, surtout !\\n\\nUne voix à gauche. Pas comme vous l'entendez 1\",\n",
       " 'SCRUTINS POUR L\\'ÉLECTION DU BUREAU DÉFINITIF M. le président. L\\'ordre du jour appelle les scrutins pour la formation du bureau définitif. Il va d\\'abord être procédé au tirage au sort des scrutateurs qui devront procéder au dépouillement des divers scrutins.\\n\\n(II est procédé au tirage.) Le sort désigne :1re table: M Vf. le comte de Douville-Maillefeu, Teissèdre, Mathé.\\n\\n2\"iable,:MM. Trarieux, Simon (Fidèle), le comte de Perrochel.\\n\\n3e table: MM. Bravet, le prince d\\'Arenberg,Even.\\n\\n48 table MM. Chauveau (Franck), Bibot, Loustalot.\\n\\n58 table : MM. Devaux, Baury, le baron de Soubeyran.\\n\\nGatable : MM. Camille Sée, Develle (Eure), Henri Germain.\\n\\n7e table: MM. Deniau, Soye, Nélellec.\\n\\n8* table : MM. le baron de Septenville, de La Biliais, Teilhard.\\n\\n9e table : MM. Bouteille, Bienvenu, Chavanne.\\n\\nSupplémentaires : MM Bayât, Bosc, Bresfon, Thomas, Davès, Blon.\\n\\nM. le président. Le scrutin est ouvert pour la nomination du président. Il est deux heures quinze, il sera fermé à trois heures et demie.\\n\\n(Lé fcrutin est clos à trois heures et demie.\\n\\nLes bulletins de vote sont emportés dans une pièce voisine de la salle des séances pour être répartis entre MM. les scrutateurs chargés d\\'eu opérer le dépouillement )\\n\\nM. le président. L\\'ordre du jour appelle l\\'élection des quatre vice-présidents.\\n\\nIl va être procédé au vote.\\n\\n(Le scrutin a lieu à la tribune dans la même forme que le précédent. Il est clos à quatre heures cinq minutes.) M. le président. L\\'ordre du jour appelle l\\'élection des nuit secrétaires.\\n\\nIl va êtie procédé au vote.\\n\\n(Le scrutin, ouvert à quatre heures dix min ites, est fermé à quatre heures quarante minutes.) M. le président. Voici le résultat du dépouillement du scrutin pour la nomination du président définitif.\\n\\nNombre devotants.376 Bulletins blancs ou nuls. 69 ¡\\' Suffrages exprimés,. 307*~Majoritéabsolue. 154\\n\\nOnt obtenu :\\n\\nMM.Grambetta.262 voix.\\n\\nBrisson 30<Voixperdues. 15—\\n\\nM. Gambetta ayant obtenu la majorité -aS.\\n\\nsolue des suffrages exprimé?, je le proclame président de la Chambre des députés pour l\\'année 1881.\\n\\nMaintenant, voici le résultat du dépouillement dvi scrutin pour la nomination des vicepréHjients :\\n\\nNombre des voyants \\'jj 349 Bulletins blancs oa nuls. 1 Suffrages exprimés. 348 Majorité absolue,. 175\\n\\nOnt obtenu :,1\\n\\nMM. Brissoo. 266 voix. Phdippott>aux. 250—\\n\\n8enartt 236-Floquet..160—da Bodln. 105—le comte do Durfort de Civrac. 62 — Voix perdues. il —\\n\\nMM. Brisson, Philippoteaux et Senard ayant obtenu la majorité absolue des suffrages exprimés, je les proclame vice-présidents de la Chambre.\\n\\nIl y a lieu à un deuxième tour de scrutin pour la nomination du quatrième vice-président.\\n\\nSiln\\'y a pas d\\'opposition, il sera procédé à ce scrutin après celui qui va avoir lieu pour la nomination des questeurs. (Marques générales d\\'assentiment. )\\n\\nLe scrutin est ouvert pour la nomination des trois questeurs (Le scrutin, ouvert à cinq heures moins dix minutes, est closAcinq heures quinze minutes.) M. le président. Il va être procédé à un deuxième tour de scrutin pour i\\'éleotion du quatrième vice-président.\\n\\n(Le scrutin est ouvert à cinq heures yingt minutes. )\\n\\nM le président. Il est six heures moins cinq minutes, et le nombre des votants n\\'a pas encore atteint le chiffren.ipApar le règlement pour la validité du scrutin. Pdut-être y auraitil lieu de renvoyer à la prochaine séance.\\n\\nVoix diverses. A demain 1 — A -samedi !\\n\\nUn membre. Attendons le résultat du dépouillement du scrutin pour l\\'élection des questeurs !\\n\\nM. le président. Voici d\\'abord le résultat du dépouillement du scrutin pour la nomination des 8 secrétaires :\\n\\nNombre de votants.,. 314 Bulletins blancs ou nuls 4 Suffrages exprimés., 310 Mojorité abdolIl8. 156.\\n\\nMM. Renault-Morlière 259 voix.\\n\\nArmez. 251 Fréminet 253 — Hémon 25 < — Crozet Fourneyron 257 — Marcellin Pellct. 246 — le comte Le Gonidec de Traissan 239 — le marquis de Valfons.• 215—\\n\\nMM. Renault-Morlière, Armez, Fréminet, Hémon, Crozet- Fourneyron, Marcellin. Pellet, le comte Le Gonidec de Traissan, marquis de Valfons, ayant obtenu la majorité absolue des suffrages exprimés, je les proclameliecrètahellide la Chambre.\\n\\nMessieurs au dépouillement du scrutin pour l\\'élection des questeurs, on n\\'a pas trouvé le nombre de suffrages suffisant pour que l\\'élection soit valable.\\n\\nQuant au second tour de scrutin pour la nomination d\\'un quatrième vice-président, le nombre des votants nécessaire n\\'a pas été atteint.\\n\\nIl y a donc lieu de procéder à de nouveaux scrutins, et pour le quatrième vice-président et pour les questeurs. -\\' Je propose à la Chambre de remettre ces scrutins à la prochaine séance. (Oui ! oui 1) Sur divers bancs. A demain ! à demain 1 À droite. Non ! n n ! A samedi!\\n\\nM. le président Je vais consulter la Chambre.\\n\\nJe mets d\\'abord aux voix le jour le plus éloigné, c\\'est à-dire samedi.\\n\\n(La fixation à samedi, mise aux voix, n\\'est pas adoptée.)\\n\\nM. le président. En conséquence , les scrutins sont renvoyés à demain, à deux heures.\\n\\n( La séance est levée à six heures cinq minu tes. )\\n\\nLechrdu service sténographique de la Çhqmbre des députés, BON-EURE LAGACHB.\\n\\nM. Choron, député de l\\'Aisne, a déposé surlebureau de la Chambre des députés une pétition de 19 employés des contributions indirectes de la sous-direction de ChâteauThierry.\\n\\nM. René Goblet, député de la Somme, a déposédf-spétitionsda86 employés des contributions indirectes des arrondissements d\\'Amiens et de Doullens.\\n\\nM. EmUe Bouchet, député des Bouches-duRhône, a déposé une pétition signée de50citoyens de Marseille.\\n\\nM. Langlois, député de Seine-et-Oise, a déposé une pétition de M. Dieudonné, conseiller d\\'arrondissement du canton de Gonesse.\\n\\nM. Loustalot, député des Landes, a déposé une pétition des administrateurs de l\\'hospice et du bureau de bienfaisance de Dax.\\n\\nM. Fourot, député de la Creuse, a déposé une pétition de 21 employés des contributions indirectes de la sous direction d\\'Aubusson M. E. Deschanel, député de la Seine, a déposé, pour être renvoyées à la commission du budget :bu1°Une pétition des négociantstonépiceries des villes de Puteaux, Courbevoie, Suresnes, Colombes, Afn ères, Nanterre, Neuilly,LfJvallois-Perretet Pantin ; 2° Une pétition d\\'un prand nombre de négociants en épiceries de Paris;\\n\\n3° Une pétition de 17 négociants importants de Paris (quartier de la Verrerie); 4° Une pétition des sociétés coopératives de consommation de Puteaux, Suresnes et Courbevoie.\\n\\n, .\\', PÉTITIONS -W!.',\n",
       " 'HESOLUTION de la 17* commission des pti.\\n\\ntions, insérée dans le feuilleton du 2ddeembra1880, devenue définitive aux termes de l\\'article 66 du règlement.\\n\\naArt. 66. — Tout député, dans le mois de la distribution du feuilleton, peut demander le rapport en séance pub ique d\\'une pétition, quel que soit le classement que la commission lui aitassigné.*\\n\\nt Sur sa demande, le rapport sera fait de plein droit.\\n\\n« Après l\\'expiration da délai ci-detsus indiqué, les résolutions de la commission devien* nent définitives à l\\'égard des pétitions qui ne doivent pas être l\\'objet d\\'un rapport public et elles sont mentionnées au Journal officiel.1DIX. SEPTIÈME COMMISSION M. Paul Casimir Perler, rapporteur.\\n\\nPétition no 1855. (Déposée par M. de MA HT, député de la Réunion.) — Des colons de la Nouvelle-Calédonie, résidant à NOuméa, adreseent à la Chambte des députés l\\'expression de leurs souffrances et sollicitent une indemnité comme réparation des événements aussi funestes qu\\'inattendus dont la colonie n\\'a cessé d\\'être rrappée depuis cinq années : notamment une sécheresse de quatre années consé cutives et l\\'insorrection des Canaques, avec ses horreurs et ses ruines.\\n\\nMotifs delacommission. — Les pétition», *\\n\\nIlikirespont tout destolün8libres qui sont allés porter dans la Nouvelle-Calédonie leur activité, leur industrie, leurs capitaux,ave\",leur courage etIt\\'!:resprit d\\'entreprise; i\\'s méritent assurément l\\'intérêt, la gratitude même, et surtout la protection de la mèrepatrie. Il ne peut y avoir contestation sur le principe.DiiLiqueUemesure y font-ils appel, a quel point ont-ils justement apprécié leurs titres moraux si ce n\\'est leurs droits certains à la réparation des maux qu\\'ils ont soufferts ?\\n\\nLe préjudice a-t il été notoire et considérable?\\n\\nLes indemnités qu\\'on réclame sont-elles modérément calculées et proportionnées au pré- judicc ? Sont- ce bien enfin des indemnités ou des secours qui sont dus, et la France doitelle voir ici des créanciers ou des soUiciteurf, sympathiques d\\'ailleurs et respectables dans l\\'une ou l\\'autre hypothèse?\\n\\nTels sont lesseulspoints pur lesquels nous ayons à faire porter l\\'examen des faits exposés dans la pétition.\\n\\nIl y a longtemps déjà qu\\'au dire de* péli.\\n\\ntionnaires une première cause de gêne était venue mettre en souffrance leurs intérêts Une évasion célèbre avait été l\\'occasion d\\'une sévère enquête, à la suite de laquelle l\\'expulsion d\\'un certain nombre de colons inoffensifs aurait eu pour conséquence immédiate le retrait des capitaux offerts au crédit sur la place de Nouméa. Pius tard (1),1une faillite prévue, mais qui n\\'en fut pas moins désastreuse pour le pays, le priva cette fois encore tdu numéraire dans un moment où il tn avait le plus pressant besoin. L\\'exploitation des mines dut être interrompue et nombre de bras inoccupés refluèrent vers la viHe — Une baisse considérable frappait en Europe le nickrl, un des produits importants de la colon:e.1— Pais enfin, par surcroit, quatre années de séche.\\n\\nresse consécutive « brûlaient l\\'herbe des pâturages1et réduisaient presque à néant«des cultures que chique fois, après le passage périodique des sauterelles, les colons agriculteurs renouvelaient avec persévérance ».\\n\\nJusque-là, courageux et réiigns, les énergiques pionniers de la civilisation française dans la Nouvelle-Calédonie s\\'abstinrent de faire parvenir leurs doléances jusqeau Parlement : < Il leur semblait impossible qu\\'un changement prochain de cet état de choies ne lût pas pour eux un retour de fortune.1Mais un désastre plus terrible et plus funeste encore devait bientôt détruire toutes leurs espérances. En t878 survint la grande insurrection des Canaques. En prétence du massa- cre de leurs familles, du sac ou de la destruction de leurs demeures, du ravage de leurs cultures, du rapt ou de l\\'égorgement de leurs troupeaux, frappés de destruction, d\\'inceniïe, de ruine ou de mort, les colons ont enfin poussé vers les autorités locales etvcrsla mèrepatrie le cri de détresse qui nous arrive aujourd\\'hui.\\n\\n« Le gouvernement de la colonie n\\'y est pas resté sourd. » Une commission a été nommée par ses soins pour recueillir les ïéclamations des colons, les examiner, les contrôler, vérifier, supputer les titres et les dommages, et déterminer pour chacun d\\'eux le quantum des indemnités ou des secours qui devraient ou pourraient être accordés.\\n\\nAinsi la réalité des sinistres dont les réclamantl ont été victimes est hors de conteste.\\n\\nDoublement établis par la notoriété des plus sanglantes catastrophes et par l\\'intervention même des autorités de l\\'tle au règlement provisoire des pertes subies, ces malheurs na nous laissent plus qu\\'à nous demander, non pas si l\\'Etat doit les rèpirer ou les atténuer en certaine me>ure, ce qui ne saurait faire doute à nos yeux, mal si les bises de réclamations présentés par les colons ainsi dépouillées ont acceptables, et s\\'il convient deleisaccueillir ou\\n\\ni(1) Tous les passages entre guillemets sont extraits du texte de la pétition ou des procèsverbaux et pièces y&nneê.\\n\\nd\\'en réduire l\\'importance; car il n\\'y a lieu pour la commission, dans cette occurrence, qu\\'à donner son avis sur un travail déjà fait à Nouméa, d\\'accord et de concert entre les représentants des colons et le gouvernement de la colonie, et transmis par ce dernier au ministre de la marine; le tout après une enquête et des débats contradictoires dont les procès-verbaux sont en nos mains.\\n\\nNous avons dit plus haut qu\\'une commission avait été nommée par un arrêté du gouver- neur. Cet arrêté porte la date du 27 décembre 1878. La commission était composée du commissaire de la marine ordonnateur, M. Morau, président; du directeur des travaux de l\\'intérieur, M. Dutreuil, vice président; de MM Gauharou, sous chef de bureau, secrétaire; D zarnaulds, avocat; de Chanva!on notaire; Rataboul, négociant; Boutan, colon.\\n\\nIl fat toot d\\'abord reconnu qu\\'alorl même qu\\'une vérification sur place ne serait point,:)ardivers motifs, impraticable, elle serait\\n\\ninutile, illusoire, et, de plus, très-coû euse ; qu\\'il y fallait donc renoncer. On le comprendra d\\'autant mieux que les événements s\\'éta ent accomplis en juin 1878, et que les commissaires n\\'ont pu commencer leurs opéra lions qu\\'en juin 1879. Tous les propr étaires intéressés furent entendus et mis en demeure, toute i les pièces probantes exigées et fournies dans la mesure du possible, des témo ns appelés .et interrogés. Enfin, tous les membres de la commission adjoints aux représentants du pouvoir colonial, et dont deux figurent euxmêmes au nombre des victime* de l\\'insurrec tion et des réclamants, avaient une connaiasance personnelle des propriétés ravagées, de leurs dépendances, de leur outillage, soit agricole, soit industriel, connaissances largement suffisantes pour assurer le contrôle sérieux tt compétent des mémoires de dommages pro duits à l\\'enquête ; et quant au caractère, à la respectabilité des commissaires, nous ne saurions mieux faire que de reproduire les extraits ci-dessous du procès-verbal de la séance du 22 novembre 1879, tenue par la conmission d\\'enquête et d\\'expertise.\\n\\nOn y lit d\\'abord ce qui suit :1LaEOUS.\\n\\ncommission d\\'expertise déclare qu\\'elle a été si scrupuleuse dans ses appréciations, que le chiffre fixé pir elle est bien inférieur aux dommages causés par l\\'insurrection. Elle n\\'a con staté que les pertes matérielles. Maiscam.\\n\\nment évaluer tous les dommages causés par l\\'insurrection? » — Et plus loin : « M. le di recteur de l\\'intérieur, viCe président, iit qu\\'il rend justice à la conscience, à l\\'irapirtialité avec lesquelles layojs-ommission aaconpli le mandat qui lui avait été confié. Il eslime quehperte subie par la colonie, du fait de l\\'msurrectjon, est supérieure au chiffre total des mé moires arrêtés par la commissioa*\\n\\nEt Mlecommissaire de la marine ordonnateur, président, c\\'ôt la séance en faisant connaître à la commission : « Qu\\'il strait heureux qu\\'elle voulût bien se joindre à lui pour exprimer ses remerciements à ceux de ses membres qui ont bien voulu se charger, en sous-commission, de la préparation de ce vo umineux travail.»1 Ce travail est signé par lesdits commissaireordonnateur, président, et directeur de l\\'intérieur, vice président. En présence de ces déclarations, on ne saurait attacher une réelle importance aux réserves maintenues par le même commissaire-ordonnateur, lorsqu\\'il écrivait, le 27 novembre 1879. à M le gouverneur de la Nouvelle-Calédonie : c Le travail. se résume aujourd\\'hui&l\\'état estimatif préparé par la sous-commissioaas sa dernière séance. Les réponses opposées à mes objections ne les on.P,tSfait disparaitre démon esprit Mais je ne sauras que représenter dans la circonstance une opinion isolée qui se fort fiera certainement, alors que tous les colons intéressés pourront se prononcer après avoir eu connaissance des\\n\\nappréciations de lasous-conmUsion.S\\'ilsont été, en effet, unanismes pour essayer d\\'égarerl\\'opinionpvib\\'iqu*enFrance,alors qu\\'ils comptaient se partager 3 ouimillions.ilSse diviseront sùrement en voyant que la répartit\\'on ne saurait porter que sur unesub..\\n\\nvention en rapport à une perte de 900.000 fr.\\n\\nLa lumière sera donc faite par ceux-là mêmes qui ont cru avoir intérêt à la couvrir.\\n\\nLe scrupule mis en avant au cours de la discusion par l\\'honorable signataire de ces lignes, et fondé sur la méthode adoptée par les commissaires, en ce qui touchait à la présence des carcasses de gros bétail sur les proriétés, comme base d\\'attribution aux propriétaires des indemnités afférentes à fa perte des animaux, ce scrupule, disons-nous, réfuté d\\'ailleurs par la sous commission, ne saurait expliquer suffisamment le langige qUi nous venons de citer.',\n",
       " \"Toutes les autres objections présentées par M. l'ordonnateur nous paraissent avoir été résolues pertinemment dans la discussion la 22 novembre 1819, et s'il pouvait en rester quelque chose, ce serait l'imprelsion d'un excès, bien plus que d'un défaut de sévérité de la part de la commission d'enquête,d.mal'admission et la vérification des mémoires de dommages fournis par les colons. Mais, quoi qu'il en loit da ces contradictions, le caractère plu.\\n\\ntôt parcimonieux des évaluations de la souscommission est attesté finalement par l'opinion suprême du gouverneur de la co'onie, puisque, le 2 novembre 1879, M. le commandant Olry écrivait au ministre de la marine :cCe long travail a é.6 fait avec le soin le plus consciencieux, sous la direction de M. l'ordonnateur, par la commission composée en grande partie d'habitants. - les mémoires produits par les victimes de insurrection.\\n\\nont été, après l'examen le plus attentif et le plus sévère, ramenés au chiff e de 908,432 fr.\\n\\n55 c.Ilest incontestable que c'estlàune appréciât on minimum des dommages éprouvés. »\\n\\nSur ce point donc, il n'est permis de concevoir aucun doute. L'enquête véritlcative et estimative a é'é faite — dans toutes les conditions désirables, ou du moins réalisables en l'espèce, au point de vue de la constatation des faits et de l'appréciation de leurs conséquences — et dans les plus certaines conditions d'honorabilité comme d'impartialité, quant à la justice comparative et distributive à laquelle chacun avait drot.\\n\\nVoici quels ont été les résultats : les chiffres que nous allons transcrire sont, d'une part, ceux produits au nom des réclamants, et, de l'autre, ceux proviîoirement arrêtés par la sous-commission et ratifiés par la commission plécière.\\n\\n- Le total des indemnités rectamées se montait à 2 450,810 fr. 73, à répartir entre quatre vingt-douze colons. La plus forte perte affirmée a été de 518,400 fr. et la plus faible de 130 fr. La sous-commission a réduit le chiffre total à celui de 908,432 fr. 55.\\n\\nEt maintenant, que faut-il penser de cet écart entre le chiffre de la réclamation des colons et celui des estimations des commissaires àJ'enl{Qête?la pétition a t-elle pour but de réclamer la révision du travail, ou seulement de presser le vote par les Chambres et la distribution des indemnités arbitrées ? On penche volontiers pour ce dernier sentiment quand on lit dans le contexte même de la pétition :1Nous avons poussé un cri de détresse auquel n'est pas resté sourd le gouvernement de la co!onie. Par ses soins, une commission a été nommée dans le but de recueillir1erréclamations des colons, d'examiner leur titre à une indemnité, d'en déterminer le quantum pour chacun d'eux. Nous savons que1stravail de cette commission, aujourd'hui lormicé, va être adressé au ministre de la marine et des cololonies et que le gouvernement local est disposéj|à en appuyer fortement188conchUlom.\\n\\n«En remerciant M. le co'onel Olry d'avoir pris l'initiative de cette mesura réparatrice, nous éprouvons le besoin, messieurs les députés, de vous dire que le désastre de notre position est parvenu à son comble..\\n\\nIl pt vrai que les pétitionnaires ajoutent ;aVous reconnaîtrez, nous en sommes convaincus, combien l'indemnité que nous réclamons e t légitime..\\n\\nS'agit-il ici du principe ou du quantum de l'indemnité? C'est ce qu'il nous est difficile de juger; il va de soi que les indemnitaires aimeraient mieux le plus que le moins.\\n\\nMais les éléments d'appréciation directe et personnelle nous manquent absolument, et les colons eux-mêmes n'ont fourni, dans le dosi er que nous avons en mains, rien autre chofe qu'on état imprimé, portant inventaire individuel de tous les dommages éprouvée sans aucune pièce à l'appui. Nous ne pouvons donc raisonnablement, comme nous yt-ommeadisposés d'ailleurs moratement, qu'admettre.\\n\\nles évaluations de la commission û'enquê-e ; estimant toutefois que. s'il y avait lieu de s'en écarter, ce serait pour en arrondir le chiffre total plutôt que pour l'écorner.\\n\\nAvant de conclure, il nous faut dire que, sur derx questions, nous ne saurions être en communauté de vues avec la commission et1rsautorités de l'île. L'une de ces questions est purement morale; l'autre, morale et juridique à la fois.\\n\\nParmi les propriétés et les matériels dévas tés ou détroits par les insurgés, étaient eeux d'un sieur Bo z )t, décédé avant, pendant ou après la révolte : les documents ne le précisent pas.\",\n",
       " 'M. Canque, curateur aux successions vacantes, agissant, non pas au nom des membres de la famille, tous disparus, mais dans l\\'intérêt. des créanciers et jusqu\\'à concurrence d\\'une somme de 101 308 fr. à eux dur, a pr.é la commission d\\'ei quête de vouloir bipn estimer la perte subie par la succession BMïot.\\n\\nMais « la commission a été unanime pour reEousser le mémoire présenté de ce chtf par L. Canque»;dies\\'est déclarée < chargée d\\'apprécier les pertes subies par M. Boizot, mais non celles subies par ses créanciers.\\n\\nUne pareille décision nous semble au moins très-discutable, et, pour notre part, nous ne la saurions approuver. S\\'il est un axiome de droit incontesté, c\\'est que le créancier peut exercer tous les droitsdeton débiteur, et le représenter dans toute action en recouvre.\\n\\nment, restitutions et réparations de toutes sortes, et des lors il est difficile de comprendre&quel titre ce qui serait reconnu comme légitimement dù, à un titre quelconque, à un citoyen, pourrait être refusé à ses créanciers légitimes aussi, sans que le droit et l\\'équité vulgaires en fussent également offensés. Et vainement ici dirait-on que le but de l\\'indemnité réparatrice est de récompenser des dommages, d\\'encourager le colon, le pionnier qui, par son t\\'avait, son courage, ses risques directs et personnels, va propager au loin le nom, l\\'influence, la puissance de la mère-patrie.\\n\\nCar si le capitaliste prêteur est colon luimême, exilé temporaire, lui aussi, du pays natal, associé courageux, entreprenant, aventureux, à l\\'œuvre commune, au nom duquel principe lui refusera t on l bénéfice commun de la sollicitude nationale? et si l\\'on accorde indemnité pour dommages soufferts, dans la culture ou dans l\\'industrie, à celui qui les a mises en œuvre de ses bras, en vertu de qu\\'elle justice la refuserait-on à celui sans !e\\n\\nconcours; sans l\\'assistance voisine et sans les capitaux duquel, apportés par lui-même, cette culture et cette industrie n\\'eussent pas pu naître et s\\'organiser? Eh I quoi donc, au pays d\\'origine, sur la vieille terre nationale, en aucune circonstance on ne songerait à faire au créancier un sort de droit différent de celui fait au débiteur, et ce déni de justice deviendrait justice parce qu\\'il frapperait un ayantdroit honnête à l\\'autre bout du monde, et trouverait excuse dans l\\'effroyable désastre subi par une colonie tout entière !\\n\\nLes créances étaient-elles, dans l\\'espère, contestées, suspectes, usuraires, indignes de soutien 1 ileùtfallu le dire, ou tout au moins l\\'indiquer; mais on n\\'entend, ni n\\'aperçoit rien de semblable, et sans doute on ne le croirait pas volontiers, quand on voit l\\'un des créanciers, M. Rataboul, investi d\\'un mandat d\\'estime et de confiance par les pouvoirsmemes de la colonie qui le nomment commissaire à l\\'enquête. Arguer d\\'un pareil motif,àl\\'état vague de suspicion, et plus encore, ne se point inquiéter du défaut absolu de motif à l\\'appui d\\'une pareile décision, ce serait, il faut en convenir, une singulière façon d\\'inspirer aux capitaux le goût des voyages et des transports sur les vaisseaux d\\'un pays colonisateur. Et si l\\'on objectait qu\\'il s\\'agit là d\\'un octroi gracieux, mais non pas d\\'un droit qui se puisse imposer ; que si l\\'Etat veut bien accorder un secours, il n\\'entend pas devoir une indemnité; que ton intervention est donc pleinement libre, etquenul ne peut l\\'étendre au delà des limites marquées;par sa volonté, nous répondrions tout d\\'abord qu\\'à voir l\\'Etat s\\'esquiver de la sorte, l\\'équité serait mal satisfaite, et de plus, que l\\'Etat ne saurait donner cet exemple d\\'ap pliquer, dans l\\'exercice même de sa liberté d\\'appréciation, dans l\\'usage d\\'un droit moral, des principes diamétralement contraires à ceux que consacre le droit juridique auquel il a charge d\\'assurer force et respect.\\n\\nNous- voici, d\\'ailleurs. conduits par cette question subsidiaire, au dernier point que nous avions à traiter. Les membres de la commission d\\'enquête, non fonctioonaires dans l\\'i\\'e, ont énergiquement protesté contre le caractère et l\\'expression de secours pour qualifier les allocations réclamées de l\\'Etat. M. D.nrnauds, l\\'un d\\'entre eux. et l\\'un des sinistrés, c se déclare tout prêt à accepter l\\'indemnité à laquelle il croit avoir droit ; mais il n\\'accepterait point de secours, et ses collégues s\\'associenthauLe.\\n\\nment à sa déclaration.\\n\\nM. le commissaire ordonnateur, président, constate que le but de la grande majorité de la commission est d\\'ob\\'enir de l\\'Etat une indemnité de droit. Or le droit d\\'être indemnisé par l\\'Etat implique naturellement la responsabilité de l\\'Etat, et il ne saurait en accepter le principe. Il maintient donc le mot secours et demande l\\'insertion de ses appréciations au procès-verbal.\\n\\nAu contra.re, M. le directeur de l\\'intérieur « ne pense pas que le mot secours puisse re employé, e. il maintient le mot indemnité, sans vouloir en aucune façon engager aucune responsabilité. »\\n\\n11 n\\'y a la sans doute présentement pour les colons qu\\'une question de dignité, si, quelle qu\\'en soit l\\'appellation, i!s doivent, grâce à l\\'intervention de l\\'Etat, toucher le montant despercespar eux subies, telles qu\\'elles sont évaluées par la commission. Mais il pourrait y avoir davantage, selon les éventualités de l\\'avenir dans la colonie même ; et, pour l\\'Etat, l\\'admission d\\'un principe dont les conséquen-\\n\\ntesne saurai nt être bornées loca\\'emer tn\\'estcertes pas sans gr vi é.\\n\\nLt minorité de la commission estimait,avecles pétitionnaires, que la révolte desindigène*n\\'a pas eu pour cause des querelles et desran.\\n\\neunes particulières, mais un désir, une sotd\\'indépendance générale, amenée par lacon\"quête française impatiemment supportée; qu\\'en pareil cas « il y a preuve qu unpaYSétait occupé, mais non pas soumis ; etquedès lors, un gouvernement, en aliénantleiterres de ce paya aux colons qu\\'il avaitentrai*nés à sa suite, a vendu ce qu\\'il nepossédât*pas réellement. Qu\\'en dehors de lavente,l\\'tat doit être ici considéré commettuteur,ad.\\n\\nministrateur des personnes et des biens1et,qu\\'en tant que ven leur, il doit être soumisautobligations du droit commun, c\\'est-à-dire,enl\\'espèce, à la garantie contre toute éviction.tOr, après avoir payé le prix da lachosflf>|après avoir fn outre acheté et payé laprQteC-ltion par l\\'acquittement de tous les impôtsda\"crêtés, les colons ont souffert d\\'une aéVIC\"tionàaussi complète et d\\'un < trouble dejouis.\\n\\nsanceàaussi profond que possible; etleurdroit à réparation, qui serait incontestableen*tre particuliers dans la mère-patrie, revêtuneforce nouvelle quand on compare lagrandeuret la puissance du vendeur à l\\'intimité de1\\'*\\'chteur; quand on songe aufaitdelacon*qcête récente, à ces dangers personnels, àcesmorts cruejles affrontées que rien ne répare,eaun mot à cet état précaire, douteux,menacétout plein de chances et de prévisionsguerroyautesau milieu desquelles s\\'est passélecontrat et s\\'est formé le lien juridiqued\\'acheteurà vendeur, entre les colons et l\\'Etat.\\n\\nMais la majorité de la commission, touteadmettant la valeur morale de ces argumentan\\'a pas cru pouvoir leur en attribuer unejurdique assez décisive pour lui permettredeconclure en tranchant la question au sensditdroit absolu des colons. Le développementeles conséquences en fait du principeainsiposé, dans telle ou telle hypothèse, luiontparu trop graves p ur qu\\'elle pûts\\'associe*par un avis favorable aux exigences depureforme que la fierté des colons, touteleflpeC\"table qu\\'elle soit, les a poussées à mettreenavant. Et les énormesdommages,lesruine*même tiès souvent que, dans ladernièreguerre, se soat vu infliger tant deFranckde la mère-patrie, sans autredédommagementpossible que d\\'insuffisantes partsau*secours généraux du budget, défendaient àlacommission de reconnaître, mêmethéorique*ment, aux colons de Nouméa, ce droitabsoludont la non-satisfaction intégralemettraitalors la France elle-même, à leur égard,c0quelque sorte à l\\'état de débitriceinsolvable,La commission ne pouvait donc enl\\'espècfque refuser de reconnaître le bien fondé deI*prétention de droit formel à indemnité;mai*nous pensons qu\\'il y a lieu de conclure :\\n\\nteAu payement par l\\'Etat auxpétitionnaIresdes allocations individuelles fixées parleSévaluations arbitrales de l\\'enquête etconsidé\"rées comme un minimum ;2°A l\\'admission, dans les mêmesterme\"des mémoires de dommages présentés parM»Ganque au nomdesayants-droitdeM.Bai\\'zot, décédé, mais sous la réserve del\\'estilD..\\n\\ntion, d\\'ailleurs provoquée par M. Canquelu1*même.\\n\\nC\\'est dans cet ordre d\\'idées que la 17°corn\\'mission propose de renvoyer au miaistredela marine et des colonies ia pétitionnO1855,— (Renvoi au ministre de la marine etdeicolonies.)']"
      ]
     },
     "execution_count": 6,
     "metadata": {},
     "output_type": "execute_result"
    }
   ],
   "source": [
    "db.get()[\"documents\"]"
   ]
  },
  {
   "cell_type": "code",
   "execution_count": 21,
   "metadata": {},
   "outputs": [],
   "source": [
    "queries = [\"Selon le texte, combien de colons étaient concernés par les indemnités réclamées ?\"]\n",
    "docs = db.query(query_texts=queries)"
   ]
  },
  {
   "cell_type": "code",
   "execution_count": 22,
   "metadata": {},
   "outputs": [
    {
     "data": {
      "text/plain": [
       "[[\"Toutes les autres objections présentées par M. l'ordonnateur nous paraissent avoir été résolues pertinemment dans la discussion la 22 novembre 1819, et s'il pouvait en rester quelque chose, ce serait l'imprelsion d'un excès, bien plus que d'un défaut de sévérité de la part de la commission d'enquête,d.mal'admission et la vérification des mémoires de dommages fournis par les colons. Mais, quoi qu'il en loit da ces contradictions, le caractère plu.\\n\\ntôt parcimonieux des évaluations de la souscommission est attesté finalement par l'opinion suprême du gouverneur de la co'onie, puisque, le 2 novembre 1879, M. le commandant Olry écrivait au ministre de la marine :cCe long travail a é.6 fait avec le soin le plus consciencieux, sous la direction de M. l'ordonnateur, par la commission composée en grande partie d'habitants. - les mémoires produits par les victimes de insurrection.\\n\\nont été, après l'examen le plus attentif et le plus sévère, ramenés au chiff e de 908,432 fr.\\n\\n55 c.Ilest incontestable que c'estlàune appréciât on minimum des dommages éprouvés. »\\n\\nSur ce point donc, il n'est permis de concevoir aucun doute. L'enquête véritlcative et estimative a é'é faite — dans toutes les conditions désirables, ou du moins réalisables en l'espèce, au point de vue de la constatation des faits et de l'appréciation de leurs conséquences — et dans les plus certaines conditions d'honorabilité comme d'impartialité, quant à la justice comparative et distributive à laquelle chacun avait drot.\\n\\nVoici quels ont été les résultats : les chiffres que nous allons transcrire sont, d'une part, ceux produits au nom des réclamants, et, de l'autre, ceux proviîoirement arrêtés par la sous-commission et ratifiés par la commission plécière.\\n\\n- Le total des indemnités rectamées se montait à 2 450,810 fr. 73, à répartir entre quatre vingt-douze colons. La plus forte perte affirmée a été de 518,400 fr. et la plus faible de 130 fr. La sous-commission a réduit le chiffre total à celui de 908,432 fr. 55.\\n\\nEt maintenant, que faut-il penser de cet écart entre le chiffre de la réclamation des colons et celui des estimations des commissaires àJ'enl{Qête?la pétition a t-elle pour but de réclamer la révision du travail, ou seulement de presser le vote par les Chambres et la distribution des indemnités arbitrées ? On penche volontiers pour ce dernier sentiment quand on lit dans le contexte même de la pétition :1Nous avons poussé un cri de détresse auquel n'est pas resté sourd le gouvernement de la co!onie. Par ses soins, une commission a été nommée dans le but de recueillir1erréclamations des colons, d'examiner leur titre à une indemnité, d'en déterminer le quantum pour chacun d'eux. Nous savons que1stravail de cette commission, aujourd'hui lormicé, va être adressé au ministre de la marine et des cololonies et que le gouvernement local est disposéj|à en appuyer fortement188conchUlom.\\n\\n«En remerciant M. le co'onel Olry d'avoir pris l'initiative de cette mesura réparatrice, nous éprouvons le besoin, messieurs les députés, de vous dire que le désastre de notre position est parvenu à son comble..\\n\\nIl pt vrai que les pétitionnaires ajoutent ;aVous reconnaîtrez, nous en sommes convaincus, combien l'indemnité que nous réclamons e t légitime..\\n\\nS'agit-il ici du principe ou du quantum de l'indemnité? C'est ce qu'il nous est difficile de juger; il va de soi que les indemnitaires aimeraient mieux le plus que le moins.\\n\\nMais les éléments d'appréciation directe et personnelle nous manquent absolument, et les colons eux-mêmes n'ont fourni, dans le dosi er que nous avons en mains, rien autre chofe qu'on état imprimé, portant inventaire individuel de tous les dommages éprouvée sans aucune pièce à l'appui. Nous ne pouvons donc raisonnablement, comme nous yt-ommeadisposés d'ailleurs moratement, qu'admettre.\\n\\nles évaluations de la commission û'enquê-e ; estimant toutefois que. s'il y avait lieu de s'en écarter, ce serait pour en arrondir le chiffre total plutôt que pour l'écorner.\\n\\nAvant de conclure, il nous faut dire que, sur derx questions, nous ne saurions être en communauté de vues avec la commission et1rsautorités de l'île. L'une de ces questions est purement morale; l'autre, morale et juridique à la fois.\\n\\nParmi les propriétés et les matériels dévas tés ou détroits par les insurgés, étaient eeux d'un sieur Bo z )t, décédé avant, pendant ou après la révolte : les documents ne le précisent pas.\",\n",
       "  'M. Canque, curateur aux successions vacantes, agissant, non pas au nom des membres de la famille, tous disparus, mais dans l\\'intérêt. des créanciers et jusqu\\'à concurrence d\\'une somme de 101 308 fr. à eux dur, a pr.é la commission d\\'ei quête de vouloir bipn estimer la perte subie par la succession BMïot.\\n\\nMais « la commission a été unanime pour reEousser le mémoire présenté de ce chtf par L. Canque»;dies\\'est déclarée < chargée d\\'apprécier les pertes subies par M. Boizot, mais non celles subies par ses créanciers.\\n\\nUne pareille décision nous semble au moins très-discutable, et, pour notre part, nous ne la saurions approuver. S\\'il est un axiome de droit incontesté, c\\'est que le créancier peut exercer tous les droitsdeton débiteur, et le représenter dans toute action en recouvre.\\n\\nment, restitutions et réparations de toutes sortes, et des lors il est difficile de comprendre&quel titre ce qui serait reconnu comme légitimement dù, à un titre quelconque, à un citoyen, pourrait être refusé à ses créanciers légitimes aussi, sans que le droit et l\\'équité vulgaires en fussent également offensés. Et vainement ici dirait-on que le but de l\\'indemnité réparatrice est de récompenser des dommages, d\\'encourager le colon, le pionnier qui, par son t\\'avait, son courage, ses risques directs et personnels, va propager au loin le nom, l\\'influence, la puissance de la mère-patrie.\\n\\nCar si le capitaliste prêteur est colon luimême, exilé temporaire, lui aussi, du pays natal, associé courageux, entreprenant, aventureux, à l\\'œuvre commune, au nom duquel principe lui refusera t on l bénéfice commun de la sollicitude nationale? et si l\\'on accorde indemnité pour dommages soufferts, dans la culture ou dans l\\'industrie, à celui qui les a mises en œuvre de ses bras, en vertu de qu\\'elle justice la refuserait-on à celui sans !e\\n\\nconcours; sans l\\'assistance voisine et sans les capitaux duquel, apportés par lui-même, cette culture et cette industrie n\\'eussent pas pu naître et s\\'organiser? Eh I quoi donc, au pays d\\'origine, sur la vieille terre nationale, en aucune circonstance on ne songerait à faire au créancier un sort de droit différent de celui fait au débiteur, et ce déni de justice deviendrait justice parce qu\\'il frapperait un ayantdroit honnête à l\\'autre bout du monde, et trouverait excuse dans l\\'effroyable désastre subi par une colonie tout entière !\\n\\nLes créances étaient-elles, dans l\\'espère, contestées, suspectes, usuraires, indignes de soutien 1 ileùtfallu le dire, ou tout au moins l\\'indiquer; mais on n\\'entend, ni n\\'aperçoit rien de semblable, et sans doute on ne le croirait pas volontiers, quand on voit l\\'un des créanciers, M. Rataboul, investi d\\'un mandat d\\'estime et de confiance par les pouvoirsmemes de la colonie qui le nomment commissaire à l\\'enquête. Arguer d\\'un pareil motif,àl\\'état vague de suspicion, et plus encore, ne se point inquiéter du défaut absolu de motif à l\\'appui d\\'une pareile décision, ce serait, il faut en convenir, une singulière façon d\\'inspirer aux capitaux le goût des voyages et des transports sur les vaisseaux d\\'un pays colonisateur. Et si l\\'on objectait qu\\'il s\\'agit là d\\'un octroi gracieux, mais non pas d\\'un droit qui se puisse imposer ; que si l\\'Etat veut bien accorder un secours, il n\\'entend pas devoir une indemnité; que ton intervention est donc pleinement libre, etquenul ne peut l\\'étendre au delà des limites marquées;par sa volonté, nous répondrions tout d\\'abord qu\\'à voir l\\'Etat s\\'esquiver de la sorte, l\\'équité serait mal satisfaite, et de plus, que l\\'Etat ne saurait donner cet exemple d\\'ap pliquer, dans l\\'exercice même de sa liberté d\\'appréciation, dans l\\'usage d\\'un droit moral, des principes diamétralement contraires à ceux que consacre le droit juridique auquel il a charge d\\'assurer force et respect.\\n\\nNous- voici, d\\'ailleurs. conduits par cette question subsidiaire, au dernier point que nous avions à traiter. Les membres de la commission d\\'enquête, non fonctioonaires dans l\\'i\\'e, ont énergiquement protesté contre le caractère et l\\'expression de secours pour qualifier les allocations réclamées de l\\'Etat. M. D.nrnauds, l\\'un d\\'entre eux. et l\\'un des sinistrés, c se déclare tout prêt à accepter l\\'indemnité à laquelle il croit avoir droit ; mais il n\\'accepterait point de secours, et ses collégues s\\'associenthauLe.\\n\\nment à sa déclaration.\\n\\nM. le commissaire ordonnateur, président, constate que le but de la grande majorité de la commission est d\\'ob\\'enir de l\\'Etat une indemnité de droit. Or le droit d\\'être indemnisé par l\\'Etat implique naturellement la responsabilité de l\\'Etat, et il ne saurait en accepter le principe. Il maintient donc le mot secours et demande l\\'insertion de ses appréciations au procès-verbal.\\n\\nAu contra.re, M. le directeur de l\\'intérieur « ne pense pas que le mot secours puisse re employé, e. il maintient le mot indemnité, sans vouloir en aucune façon engager aucune responsabilité. »\\n\\n11 n\\'y a la sans doute présentement pour les colons qu\\'une question de dignité, si, quelle qu\\'en soit l\\'appellation, i!s doivent, grâce à l\\'intervention de l\\'Etat, toucher le montant despercespar eux subies, telles qu\\'elles sont évaluées par la commission. Mais il pourrait y avoir davantage, selon les éventualités de l\\'avenir dans la colonie même ; et, pour l\\'Etat, l\\'admission d\\'un principe dont les conséquen-\\n\\ntesne saurai nt être bornées loca\\'emer tn\\'estcertes pas sans gr vi é.\\n\\nLt minorité de la commission estimait,avecles pétitionnaires, que la révolte desindigène*n\\'a pas eu pour cause des querelles et desran.\\n\\neunes particulières, mais un désir, une sotd\\'indépendance générale, amenée par lacon\"quête française impatiemment supportée; qu\\'en pareil cas « il y a preuve qu unpaYSétait occupé, mais non pas soumis ; etquedès lors, un gouvernement, en aliénantleiterres de ce paya aux colons qu\\'il avaitentrai*nés à sa suite, a vendu ce qu\\'il nepossédât*pas réellement. Qu\\'en dehors de lavente,l\\'tat doit être ici considéré commettuteur,ad.\\n\\nministrateur des personnes et des biens1et,qu\\'en tant que ven leur, il doit être soumisautobligations du droit commun, c\\'est-à-dire,enl\\'espèce, à la garantie contre toute éviction.tOr, après avoir payé le prix da lachosflf>|après avoir fn outre acheté et payé laprQteC-ltion par l\\'acquittement de tous les impôtsda\"crêtés, les colons ont souffert d\\'une aéVIC\"tionàaussi complète et d\\'un < trouble dejouis.\\n\\nsanceàaussi profond que possible; etleurdroit à réparation, qui serait incontestableen*tre particuliers dans la mère-patrie, revêtuneforce nouvelle quand on compare lagrandeuret la puissance du vendeur à l\\'intimité de1\\'*\\'chteur; quand on songe aufaitdelacon*qcête récente, à ces dangers personnels, àcesmorts cruejles affrontées que rien ne répare,eaun mot à cet état précaire, douteux,menacétout plein de chances et de prévisionsguerroyautesau milieu desquelles s\\'est passélecontrat et s\\'est formé le lien juridiqued\\'acheteurà vendeur, entre les colons et l\\'Etat.\\n\\nMais la majorité de la commission, touteadmettant la valeur morale de ces argumentan\\'a pas cru pouvoir leur en attribuer unejurdique assez décisive pour lui permettredeconclure en tranchant la question au sensditdroit absolu des colons. Le développementeles conséquences en fait du principeainsiposé, dans telle ou telle hypothèse, luiontparu trop graves p ur qu\\'elle pûts\\'associe*par un avis favorable aux exigences depureforme que la fierté des colons, touteleflpeC\"table qu\\'elle soit, les a poussées à mettreenavant. Et les énormesdommages,lesruine*même tiès souvent que, dans ladernièreguerre, se soat vu infliger tant deFranckde la mère-patrie, sans autredédommagementpossible que d\\'insuffisantes partsau*secours généraux du budget, défendaient àlacommission de reconnaître, mêmethéorique*ment, aux colons de Nouméa, ce droitabsoludont la non-satisfaction intégralemettraitalors la France elle-même, à leur égard,c0quelque sorte à l\\'état de débitriceinsolvable,La commission ne pouvait donc enl\\'espècfque refuser de reconnaître le bien fondé deI*prétention de droit formel à indemnité;mai*nous pensons qu\\'il y a lieu de conclure :\\n\\nteAu payement par l\\'Etat auxpétitionnaIresdes allocations individuelles fixées parleSévaluations arbitrales de l\\'enquête etconsidé\"rées comme un minimum ;2°A l\\'admission, dans les mêmesterme\"des mémoires de dommages présentés parM»Ganque au nomdesayants-droitdeM.Bai\\'zot, décédé, mais sous la réserve del\\'estilD..\\n\\ntion, d\\'ailleurs provoquée par M. Canquelu1*même.\\n\\nC\\'est dans cet ordre d\\'idées que la 17°corn\\'mission propose de renvoyer au miaistredela marine et des colonies ia pétitionnO1855,— (Renvoi au ministre de la marine etdeicolonies.)',\n",
       "  'HESOLUTION de la 17* commission des pti.\\n\\ntions, insérée dans le feuilleton du 2ddeembra1880, devenue définitive aux termes de l\\'article 66 du règlement.\\n\\naArt. 66. — Tout député, dans le mois de la distribution du feuilleton, peut demander le rapport en séance pub ique d\\'une pétition, quel que soit le classement que la commission lui aitassigné.*\\n\\nt Sur sa demande, le rapport sera fait de plein droit.\\n\\n« Après l\\'expiration da délai ci-detsus indiqué, les résolutions de la commission devien* nent définitives à l\\'égard des pétitions qui ne doivent pas être l\\'objet d\\'un rapport public et elles sont mentionnées au Journal officiel.1DIX. SEPTIÈME COMMISSION M. Paul Casimir Perler, rapporteur.\\n\\nPétition no 1855. (Déposée par M. de MA HT, député de la Réunion.) — Des colons de la Nouvelle-Calédonie, résidant à NOuméa, adreseent à la Chambte des députés l\\'expression de leurs souffrances et sollicitent une indemnité comme réparation des événements aussi funestes qu\\'inattendus dont la colonie n\\'a cessé d\\'être rrappée depuis cinq années : notamment une sécheresse de quatre années consé cutives et l\\'insorrection des Canaques, avec ses horreurs et ses ruines.\\n\\nMotifs delacommission. — Les pétition», *\\n\\nIlikirespont tout destolün8libres qui sont allés porter dans la Nouvelle-Calédonie leur activité, leur industrie, leurs capitaux,ave\",leur courage etIt\\'!:resprit d\\'entreprise; i\\'s méritent assurément l\\'intérêt, la gratitude même, et surtout la protection de la mèrepatrie. Il ne peut y avoir contestation sur le principe.DiiLiqueUemesure y font-ils appel, a quel point ont-ils justement apprécié leurs titres moraux si ce n\\'est leurs droits certains à la réparation des maux qu\\'ils ont soufferts ?\\n\\nLe préjudice a-t il été notoire et considérable?\\n\\nLes indemnités qu\\'on réclame sont-elles modérément calculées et proportionnées au pré- judicc ? Sont- ce bien enfin des indemnités ou des secours qui sont dus, et la France doitelle voir ici des créanciers ou des soUiciteurf, sympathiques d\\'ailleurs et respectables dans l\\'une ou l\\'autre hypothèse?\\n\\nTels sont lesseulspoints pur lesquels nous ayons à faire porter l\\'examen des faits exposés dans la pétition.\\n\\nIl y a longtemps déjà qu\\'au dire de* péli.\\n\\ntionnaires une première cause de gêne était venue mettre en souffrance leurs intérêts Une évasion célèbre avait été l\\'occasion d\\'une sévère enquête, à la suite de laquelle l\\'expulsion d\\'un certain nombre de colons inoffensifs aurait eu pour conséquence immédiate le retrait des capitaux offerts au crédit sur la place de Nouméa. Pius tard (1),1une faillite prévue, mais qui n\\'en fut pas moins désastreuse pour le pays, le priva cette fois encore tdu numéraire dans un moment où il tn avait le plus pressant besoin. L\\'exploitation des mines dut être interrompue et nombre de bras inoccupés refluèrent vers la viHe — Une baisse considérable frappait en Europe le nickrl, un des produits importants de la colon:e.1— Pais enfin, par surcroit, quatre années de séche.\\n\\nresse consécutive « brûlaient l\\'herbe des pâturages1et réduisaient presque à néant«des cultures que chique fois, après le passage périodique des sauterelles, les colons agriculteurs renouvelaient avec persévérance ».\\n\\nJusque-là, courageux et réiigns, les énergiques pionniers de la civilisation française dans la Nouvelle-Calédonie s\\'abstinrent de faire parvenir leurs doléances jusqeau Parlement : < Il leur semblait impossible qu\\'un changement prochain de cet état de choies ne lût pas pour eux un retour de fortune.1Mais un désastre plus terrible et plus funeste encore devait bientôt détruire toutes leurs espérances. En t878 survint la grande insurrection des Canaques. En prétence du massa- cre de leurs familles, du sac ou de la destruction de leurs demeures, du ravage de leurs cultures, du rapt ou de l\\'égorgement de leurs troupeaux, frappés de destruction, d\\'inceniïe, de ruine ou de mort, les colons ont enfin poussé vers les autorités locales etvcrsla mèrepatrie le cri de détresse qui nous arrive aujourd\\'hui.\\n\\n« Le gouvernement de la colonie n\\'y est pas resté sourd. » Une commission a été nommée par ses soins pour recueillir les ïéclamations des colons, les examiner, les contrôler, vérifier, supputer les titres et les dommages, et déterminer pour chacun d\\'eux le quantum des indemnités ou des secours qui devraient ou pourraient être accordés.\\n\\nAinsi la réalité des sinistres dont les réclamantl ont été victimes est hors de conteste.\\n\\nDoublement établis par la notoriété des plus sanglantes catastrophes et par l\\'intervention même des autorités de l\\'tle au règlement provisoire des pertes subies, ces malheurs na nous laissent plus qu\\'à nous demander, non pas si l\\'Etat doit les rèpirer ou les atténuer en certaine me>ure, ce qui ne saurait faire doute à nos yeux, mal si les bises de réclamations présentés par les colons ainsi dépouillées ont acceptables, et s\\'il convient deleisaccueillir ou\\n\\ni(1) Tous les passages entre guillemets sont extraits du texte de la pétition ou des procèsverbaux et pièces y&nneê.\\n\\nd\\'en réduire l\\'importance; car il n\\'y a lieu pour la commission, dans cette occurrence, qu\\'à donner son avis sur un travail déjà fait à Nouméa, d\\'accord et de concert entre les représentants des colons et le gouvernement de la colonie, et transmis par ce dernier au ministre de la marine; le tout après une enquête et des débats contradictoires dont les procès-verbaux sont en nos mains.\\n\\nNous avons dit plus haut qu\\'une commission avait été nommée par un arrêté du gouver- neur. Cet arrêté porte la date du 27 décembre 1878. La commission était composée du commissaire de la marine ordonnateur, M. Morau, président; du directeur des travaux de l\\'intérieur, M. Dutreuil, vice président; de MM Gauharou, sous chef de bureau, secrétaire; D zarnaulds, avocat; de Chanva!on notaire; Rataboul, négociant; Boutan, colon.\\n\\nIl fat toot d\\'abord reconnu qu\\'alorl même qu\\'une vérification sur place ne serait point,:)ardivers motifs, impraticable, elle serait\\n\\ninutile, illusoire, et, de plus, très-coû euse ; qu\\'il y fallait donc renoncer. On le comprendra d\\'autant mieux que les événements s\\'éta ent accomplis en juin 1878, et que les commissaires n\\'ont pu commencer leurs opéra lions qu\\'en juin 1879. Tous les propr étaires intéressés furent entendus et mis en demeure, toute i les pièces probantes exigées et fournies dans la mesure du possible, des témo ns appelés .et interrogés. Enfin, tous les membres de la commission adjoints aux représentants du pouvoir colonial, et dont deux figurent euxmêmes au nombre des victime* de l\\'insurrec tion et des réclamants, avaient une connaiasance personnelle des propriétés ravagées, de leurs dépendances, de leur outillage, soit agricole, soit industriel, connaissances largement suffisantes pour assurer le contrôle sérieux tt compétent des mémoires de dommages pro duits à l\\'enquête ; et quant au caractère, à la respectabilité des commissaires, nous ne saurions mieux faire que de reproduire les extraits ci-dessous du procès-verbal de la séance du 22 novembre 1879, tenue par la conmission d\\'enquête et d\\'expertise.\\n\\nOn y lit d\\'abord ce qui suit :1LaEOUS.\\n\\ncommission d\\'expertise déclare qu\\'elle a été si scrupuleuse dans ses appréciations, que le chiffre fixé pir elle est bien inférieur aux dommages causés par l\\'insurrection. Elle n\\'a con staté que les pertes matérielles. Maiscam.\\n\\nment évaluer tous les dommages causés par l\\'insurrection? » — Et plus loin : « M. le di recteur de l\\'intérieur, viCe président, iit qu\\'il rend justice à la conscience, à l\\'irapirtialité avec lesquelles layojs-ommission aaconpli le mandat qui lui avait été confié. Il eslime quehperte subie par la colonie, du fait de l\\'msurrectjon, est supérieure au chiffre total des mé moires arrêtés par la commissioa*\\n\\nEt Mlecommissaire de la marine ordonnateur, président, c\\'ôt la séance en faisant connaître à la commission : « Qu\\'il strait heureux qu\\'elle voulût bien se joindre à lui pour exprimer ses remerciements à ceux de ses membres qui ont bien voulu se charger, en sous-commission, de la préparation de ce vo umineux travail.»1 Ce travail est signé par lesdits commissaireordonnateur, président, et directeur de l\\'intérieur, vice président. En présence de ces déclarations, on ne saurait attacher une réelle importance aux réserves maintenues par le même commissaire-ordonnateur, lorsqu\\'il écrivait, le 27 novembre 1879. à M le gouverneur de la Nouvelle-Calédonie : c Le travail. se résume aujourd\\'hui&l\\'état estimatif préparé par la sous-commissioaas sa dernière séance. Les réponses opposées à mes objections ne les on.P,tSfait disparaitre démon esprit Mais je ne sauras que représenter dans la circonstance une opinion isolée qui se fort fiera certainement, alors que tous les colons intéressés pourront se prononcer après avoir eu connaissance des\\n\\nappréciations de lasous-conmUsion.S\\'ilsont été, en effet, unanismes pour essayer d\\'égarerl\\'opinionpvib\\'iqu*enFrance,alors qu\\'ils comptaient se partager 3 ouimillions.ilSse diviseront sùrement en voyant que la répartit\\'on ne saurait porter que sur unesub..\\n\\nvention en rapport à une perte de 900.000 fr.\\n\\nLa lumière sera donc faite par ceux-là mêmes qui ont cru avoir intérêt à la couvrir.\\n\\nLe scrupule mis en avant au cours de la discusion par l\\'honorable signataire de ces lignes, et fondé sur la méthode adoptée par les commissaires, en ce qui touchait à la présence des carcasses de gros bétail sur les proriétés, comme base d\\'attribution aux propriétaires des indemnités afférentes à fa perte des animaux, ce scrupule, disons-nous, réfuté d\\'ailleurs par la sous commission, ne saurait expliquer suffisamment le langige qUi nous venons de citer.',\n",
       "  \"EXCUSES ET DEMANDES DE CONGÉS MM. Dautresme, Bourgeois, Labuze,Hémon,Monteils et Péronne, s'excusent de ne pouvoir assister aux premières séances de la Chambre.\\n\\nMM. Descamps, Harispe, Fauré (Gers), David (Indre), et Chavoix demandent des congés.\\n\\nLes demandes seront renvoyées à la commiasion des congés.\",\n",
       "  '.',\n",
       "  \"COIPTE RENDU IN EXTENSO. - 28 SÉANCE Séance du 20 janvier 1881 SOMMAIRE Incident : M. Cuneo d'Ornano.\\n\\nCommunication, par M. le président, d'une lettre par laquelle M. le marquisleValfons décline toute candidature aux fonctions de secrétaire.\\n\\nExcuses et demandes de congés.\\n\\nAllocution de M. le président d âge.\\n\\nTirage au sort des scrutateurs et scrutin pour la nomination du président définitif, Scrutin pour la nomination des quatre vice-présidents.\\n\\nScrutin pour la nomination des huit secrétaires.\\n\\nScrutin pour l'élection des trois questeurs. Annulatioa pour défaut de nombre et renvoi àdemain.\\n\\nDeuxième tour de scrutin pour l'élection d'un quatrième vice-président. - Annulation pour défaut de nombre et renvoi à demain.\",\n",
       "  \"PBÉSIDBNCB DE M. DESSBAUX, DOYEN D'AGE.\\n\\nLa séance est ouverte à deux heures dixminuttS.\\n\\nMDreyfas, l'un des secrétaires provisoires, donne lecture du procès-verbal de la séance du11janvier.\\n\\n- SI. Cuneo d'Ornano. Je demande la parole M. le président M. Cuneo d'Ornano a la parole fur le procès-verbal.\\n\\nM Cuneo d'Ornano. Messieurs, dans la dernière séance, qui a été la première de cette session, on a ajourné à la prochaine séance les scrutins pour la constitution du bureau; aajour- d'hui, je viens demander l'ajournement de ces scrutins. (Protestations nombreuses )Plusieursmembres au etntre et a gauche.\\n\\nMais vous ne parlez pas du procès-verbal!\\n\\nM le président. Vous ne parlez pas sur le procès-verbal. Je vais d'abord le mettre auxToix.\\n\\naU(Le procès-verbal est mis aux voix et adopté.) INCIDENT M. le président. Maintenant, monsieur Caneo d'Ornano, vous avez la parole.\\n\\nM.Cuneo d'Ornano. Voici pourquoi j ai l'honneur de demander à la Chambre de voaloir bien ajourner les scrutins pour la constitution de son bureau. Si nous procédons à la constitution du bureau ordinaire aujourd'hui, nous procéderons pour la cinquième tois à une opération de ce genre; or, nousliesommes nommés que pour quatre années. (Exclama-:tions et interruptionsàgauche.) Je comprends que cela déplaise à un grand nombre de mes collègues de la gauche; je comprends que cette proposition soit peu sé- durante pour eux ; mais la question n'est pas celle-là : la question est de,.,oirsi nous avons le droit de siéger une année de plus.\\n\\n(Nouvelles exclamations a gauche.) M. Peulevey. Ce n'est pas la question tK.Allain Targé. Ce n'est pas le moment de nous occuper de cette question.\\n\\nM. Cuneo d'Ornano. M. Allain large me dit que ce n'est pas le moment de poser cette question. Je vous demande pardon, et je vous demande aussi la permission de dire pourquoic'estla question.n;.&~oT<tMnMAlIatDTargé. Il faut précisément un bureau pour dscuter cettequtation-li,(Tièi-bien! très-bienIâgauche.)\\n\\nM. Cuneo d'Ornano. Nous avons, en novembre 1877, procélé pour la première fois à Sélection de notre bureau ordinaire, et nous avons procéié, pour la première fois aussi) au vot du bidget ordinaire de 1878.\\n\\nM. Peulevey. Il ne s'agit pas du budget !\\n\\nM. Cuneo d'Ornano. Si maintenant vous constituez votre bureau, ce sera le cinquième bureau ordinaire que vous nommerez.\\n\\nM. Allain Targé. Je répète qu'il faut un bureau pour discuter Ja question que vous po.\\n\\nsez. Je demande la question préalable. (Marques d'assentiment à gauche.) M. Cuneo d'Ornano. J'ajoute que si vous acceptez d'être saisis d'an nouveau budget, ce sera le cinquième budget ordinaire que vous voterez, et alors vous compléterez, par une usurpation nouvelle, les usurpations que, depuis 1870, la République a entreprises contre le suffrage universel. (Exclamations et mur.\\n\\nmures à gauche et au centre.) Je me borne à cette protestation, et devant1smanifestations de ce côté de la Chambre (L'orateur indique la gauche), qui parait redouter le verdict des électeurs, je déclare que, dès aujourd'hui, vous empiétez sur les droits du peuple souverain. (Nouvelles exclamations à gauche.) M. le président. Veuillez vous expliquer, monsieur Cuneo d'Ornano, sur ce que vous entendez dire en parlant d'usurpations depoilvoir.que vous reprochez à la Chambre.\\n\\nM. Guneo d'Ornano. L'honorable président me demande.\\n\\nUn membre à gauche. La question préalable!\\n\\nM. Cuneo d'Ornano. Non, il ne demande pas la question préalable. ,\\n\\nPlutiturs membres à gauche. C'est nous qui la demandons 1 M. Cuneo d'Ornano. Je comprends votre impatience et votre inquiétude, messieurs.\\n\\nPlusiturs membres à gauche. Vous faites perdre le temps de la Chambre.\\n\\nM. Cuneo d'Ornano. Non! la question n'est pas de vous faire perdre votre temps, c'est de ne pàs faite perdre du temps au pays qui est notre maître à tous.\\n\\nIl s'agit de savoir, —et la question est grave, — si notre mandat est épuisé, si vous êtes encore les représentants du pays.\\n\\nM. Allain-Targé. il faut un bureau pour discuter cela.\\n\\nM. le président. Monsieur Cuneo d'Ornano, veuillez répondre à la question que je vous ai adressée. Expliquez les paroles que vous avez prononcées. Persistez-vous à dire qu'en continuant ses travaux, la Chambre continuerait le cours de ses usurpations?\\n\\nM. Cuneo d'Ornano. M. le président me demande si je persiste à dire qu'en maintenant votre mandat pendant cette année, vous continueriez le cours des usurpations..* (A.\\n\\nl'ordre! à l'ordre!) Je réponds à M. le président.\\n\\nM. Chaley. Vous voulez entraver les travaux de la Chambre.\\n\\nM. Cuneo d'Ornano. Il ne s'agit pas des travaux de la Chambre. Si la Chambre n'a plus le droit de siéger, elle n'a pas de travaux a continuer, elle doit se dissoudre, se dis- perser, en appeler au peuple.\\n\\nM. Allain-Targé. Eh bien, dispersez-vous, en nous laissantvuter.\\n\\nVous n'avez pas le droit de parler.\\n\\nM. Paul Bert. Nous ne sommes plus au 2 décembre, monsieur ; nous nous disperserons quand le jour sera venu; vous n'avez pas, vous, à disperser l'Assemblée.\\n\\nM. Cuneo d'Ornano. On a discuté à la première séance.\\n\\nJe demande à M. Allain-Targé, qui parait plus particulièrement préoccupé d'aller devant le peuple, — il a sans doute des motifs pour cela - si on a discuté à la première séance ?\\n\\nOui.Pourquoi donc a-t-on discuté?\\n\\nsi, Allain-Targé, Je dis que ei nous n'a-\\n\\nvons pas le droit de constituer le bureau, vous n'avez pas le droit de garder la parole.\\n\\nM. Cuneo d'Ornano. Consentez-vousialler devant le pays? (Vives exclamations à gauche et au centre.) M. le président. Monsieur Cuneo d'Ornano, vous avez dirigé contre la Chambre des attaques qu'elle ne mérite pas, je vous rap.\\n\\npelle à l'ordre. (Très-bien ! très-bien l à gau.\\n\\nche.) M. Cuneo d'Ornano. Je n'insiste pas.\\n\\nFois diverses à gauche. A l'ordre 1 —Liquestion préalable ! — L'ordre du jour 1 l'ordre du jour !\\n\\nM. Cuneo d'Ornano. Je n'ai pas dit qua vous usurpiez, mais j'ai dit que vous alliez usurper le droit de suffrage universel; voilà ce que j'ai dit, et je le maintiens ] M. le président. Je mantiens le rappel à l'ordre. (Très-bien 1 très-bien 1) LETTRE DE M. LE MARQUIS DE VALFONS M. le président. J'ai reçu de M. le marquis de Valfons la lettre suivante : a Le 12 janvier 1881.\\n\\n1Monsieur le président,1Pendant trois ans, j'ai siégé comme secrétaire du bureau de la Chambre des députés.\\n\\n1Je viens aujourd'hui décliner toute candidature. M. Lorois, président du groupe auquel j'appartiens, a déjà été prévenu de ma résolution ; je l'ai prié de designer à la Chambre un autre de mes collègues pour un honneur qui ne doit pas être toujours exclusivement réservé à la même personne.\\n\\n1Recevez, monsieur le président, l'expression de mes sentiments respectueux.\\n\\nc Marquis DE VALFONS, « député du Gard. »\",\n",
       "  \"ALLOCUTION DE M. LE PRÉSIDENT D'AGE\\n\\nM. le président. Messieurs, je ne puis terminer la mission que le règlement m'a confiée.\\n\\nVoix à droite. Elle n'est pas terminée. M. le président.et laisser passer le commencement de notre dernière session sans vous remercier des marques de bienveillance dont vous avez honoré votre doyen d'âge. Ce sera pour moi un souvenir précieux ; je vous en exprime toute ma reconnaissance.\\n\\nQuel que soit le jugement que l'on porte sur les travaux de cette assemblée, on ne pourra contester ni son dévouement aux principes d'une sage et libérale démocratie, ni sa modération dans l'application de ces principes.\\n\\n(Réclamations à droite. — Non ! non ! à gauche.) EUe&su résister avec une égale fermeté aux entreprises réactionnaires. (Réclamations a droite) comme aux aspirations ultra radicales.\\n\\nSans doute, nous n'avons pas réalisé toutes les réformes que réclamait l'opinion publique; mais, pour compléter cette partie de notre tâche, nous lèguerons à nos successeurs de consciencieuses études. Paissent-ils, plus heureux que nous, voir le terme des discordes qui, depuis trop longtemps, ont agité notre pays, et dont le contre-coup a parfois retenti dans cette en.\\n\\nceinte. Puissent-ils rallier au principe du Gouvernement tous ceux que n'aveugle. pas la paso\\n\\nBion politique ; tousceuxqui, s'ils consultent leur patriotisme, doivent comprendre que l'avenir, Ja prospérité,!agrandeur de la France se rattachent, par des liens désormais in lissolubles, au maintien et à la consolidation de la République. (Vifs applaudissements à gauche et au centre.) M. Keller. Et de la liberté, surtout !\\n\\nUne voix à gauche. Pas comme vous l'entendez 1\",\n",
       "  'CHAMBRE DES DÉPUTÉS Session ordinaire de 1881',\n",
       "  'SCRUTINS POUR L\\'ÉLECTION DU BUREAU DÉFINITIF M. le président. L\\'ordre du jour appelle les scrutins pour la formation du bureau définitif. Il va d\\'abord être procédé au tirage au sort des scrutateurs qui devront procéder au dépouillement des divers scrutins.\\n\\n(II est procédé au tirage.) Le sort désigne :1re table: M Vf. le comte de Douville-Maillefeu, Teissèdre, Mathé.\\n\\n2\"iable,:MM. Trarieux, Simon (Fidèle), le comte de Perrochel.\\n\\n3e table: MM. Bravet, le prince d\\'Arenberg,Even.\\n\\n48 table MM. Chauveau (Franck), Bibot, Loustalot.\\n\\n58 table : MM. Devaux, Baury, le baron de Soubeyran.\\n\\nGatable : MM. Camille Sée, Develle (Eure), Henri Germain.\\n\\n7e table: MM. Deniau, Soye, Nélellec.\\n\\n8* table : MM. le baron de Septenville, de La Biliais, Teilhard.\\n\\n9e table : MM. Bouteille, Bienvenu, Chavanne.\\n\\nSupplémentaires : MM Bayât, Bosc, Bresfon, Thomas, Davès, Blon.\\n\\nM. le président. Le scrutin est ouvert pour la nomination du président. Il est deux heures quinze, il sera fermé à trois heures et demie.\\n\\n(Lé fcrutin est clos à trois heures et demie.\\n\\nLes bulletins de vote sont emportés dans une pièce voisine de la salle des séances pour être répartis entre MM. les scrutateurs chargés d\\'eu opérer le dépouillement )\\n\\nM. le président. L\\'ordre du jour appelle l\\'élection des quatre vice-présidents.\\n\\nIl va être procédé au vote.\\n\\n(Le scrutin a lieu à la tribune dans la même forme que le précédent. Il est clos à quatre heures cinq minutes.) M. le président. L\\'ordre du jour appelle l\\'élection des nuit secrétaires.\\n\\nIl va êtie procédé au vote.\\n\\n(Le scrutin, ouvert à quatre heures dix min ites, est fermé à quatre heures quarante minutes.) M. le président. Voici le résultat du dépouillement du scrutin pour la nomination du président définitif.\\n\\nNombre devotants.376 Bulletins blancs ou nuls. 69 ¡\\' Suffrages exprimés,. 307*~Majoritéabsolue. 154\\n\\nOnt obtenu :\\n\\nMM.Grambetta.262 voix.\\n\\nBrisson 30<Voixperdues. 15—\\n\\nM. Gambetta ayant obtenu la majorité -aS.\\n\\nsolue des suffrages exprimé?, je le proclame président de la Chambre des députés pour l\\'année 1881.\\n\\nMaintenant, voici le résultat du dépouillement dvi scrutin pour la nomination des vicepréHjients :\\n\\nNombre des voyants \\'jj 349 Bulletins blancs oa nuls. 1 Suffrages exprimés. 348 Majorité absolue,. 175\\n\\nOnt obtenu :,1\\n\\nMM. Brissoo. 266 voix. Phdippott>aux. 250—\\n\\n8enartt 236-Floquet..160—da Bodln. 105—le comte do Durfort de Civrac. 62 — Voix perdues. il —\\n\\nMM. Brisson, Philippoteaux et Senard ayant obtenu la majorité absolue des suffrages exprimés, je les proclame vice-présidents de la Chambre.\\n\\nIl y a lieu à un deuxième tour de scrutin pour la nomination du quatrième vice-président.\\n\\nSiln\\'y a pas d\\'opposition, il sera procédé à ce scrutin après celui qui va avoir lieu pour la nomination des questeurs. (Marques générales d\\'assentiment. )\\n\\nLe scrutin est ouvert pour la nomination des trois questeurs (Le scrutin, ouvert à cinq heures moins dix minutes, est closAcinq heures quinze minutes.) M. le président. Il va être procédé à un deuxième tour de scrutin pour i\\'éleotion du quatrième vice-président.\\n\\n(Le scrutin est ouvert à cinq heures yingt minutes. )\\n\\nM le président. Il est six heures moins cinq minutes, et le nombre des votants n\\'a pas encore atteint le chiffren.ipApar le règlement pour la validité du scrutin. Pdut-être y auraitil lieu de renvoyer à la prochaine séance.\\n\\nVoix diverses. A demain 1 — A -samedi !\\n\\nUn membre. Attendons le résultat du dépouillement du scrutin pour l\\'élection des questeurs !\\n\\nM. le président. Voici d\\'abord le résultat du dépouillement du scrutin pour la nomination des 8 secrétaires :\\n\\nNombre de votants.,. 314 Bulletins blancs ou nuls 4 Suffrages exprimés., 310 Mojorité abdolIl8. 156.\\n\\nMM. Renault-Morlière 259 voix.\\n\\nArmez. 251 Fréminet 253 — Hémon 25 < — Crozet Fourneyron 257 — Marcellin Pellct. 246 — le comte Le Gonidec de Traissan 239 — le marquis de Valfons.• 215—\\n\\nMM. Renault-Morlière, Armez, Fréminet, Hémon, Crozet- Fourneyron, Marcellin. Pellet, le comte Le Gonidec de Traissan, marquis de Valfons, ayant obtenu la majorité absolue des suffrages exprimés, je les proclameliecrètahellide la Chambre.\\n\\nMessieurs au dépouillement du scrutin pour l\\'élection des questeurs, on n\\'a pas trouvé le nombre de suffrages suffisant pour que l\\'élection soit valable.\\n\\nQuant au second tour de scrutin pour la nomination d\\'un quatrième vice-président, le nombre des votants nécessaire n\\'a pas été atteint.\\n\\nIl y a donc lieu de procéder à de nouveaux scrutins, et pour le quatrième vice-président et pour les questeurs. -\\' Je propose à la Chambre de remettre ces scrutins à la prochaine séance. (Oui ! oui 1) Sur divers bancs. A demain ! à demain 1 À droite. Non ! n n ! A samedi!\\n\\nM. le président Je vais consulter la Chambre.\\n\\nJe mets d\\'abord aux voix le jour le plus éloigné, c\\'est à-dire samedi.\\n\\n(La fixation à samedi, mise aux voix, n\\'est pas adoptée.)\\n\\nM. le président. En conséquence , les scrutins sont renvoyés à demain, à deux heures.\\n\\n( La séance est levée à six heures cinq minu tes. )\\n\\nLechrdu service sténographique de la Çhqmbre des députés, BON-EURE LAGACHB.\\n\\nM. Choron, député de l\\'Aisne, a déposé surlebureau de la Chambre des députés une pétition de 19 employés des contributions indirectes de la sous-direction de ChâteauThierry.\\n\\nM. René Goblet, député de la Somme, a déposédf-spétitionsda86 employés des contributions indirectes des arrondissements d\\'Amiens et de Doullens.\\n\\nM. EmUe Bouchet, député des Bouches-duRhône, a déposé une pétition signée de50citoyens de Marseille.\\n\\nM. Langlois, député de Seine-et-Oise, a déposé une pétition de M. Dieudonné, conseiller d\\'arrondissement du canton de Gonesse.\\n\\nM. Loustalot, député des Landes, a déposé une pétition des administrateurs de l\\'hospice et du bureau de bienfaisance de Dax.\\n\\nM. Fourot, député de la Creuse, a déposé une pétition de 21 employés des contributions indirectes de la sous direction d\\'Aubusson M. E. Deschanel, député de la Seine, a déposé, pour être renvoyées à la commission du budget :bu1°Une pétition des négociantstonépiceries des villes de Puteaux, Courbevoie, Suresnes, Colombes, Afn ères, Nanterre, Neuilly,LfJvallois-Perretet Pantin ; 2° Une pétition d\\'un prand nombre de négociants en épiceries de Paris;\\n\\n3° Une pétition de 17 négociants importants de Paris (quartier de la Verrerie); 4° Une pétition des sociétés coopératives de consommation de Puteaux, Suresnes et Courbevoie.\\n\\n, .\\', PÉTITIONS -W!.']]"
      ]
     },
     "execution_count": 22,
     "metadata": {},
     "output_type": "execute_result"
    }
   ],
   "source": [
    "docs[\"documents\"]"
   ]
  },
  {
   "cell_type": "markdown",
   "metadata": {},
   "source": [
    "## rag"
   ]
  },
  {
   "cell_type": "code",
   "execution_count": 2,
   "metadata": {},
   "outputs": [],
   "source": [
    "collection = client.get_collection(name=collections_list[0],embedding_function=st_ef)"
   ]
  },
  {
   "cell_type": "code",
   "execution_count": 3,
   "metadata": {},
   "outputs": [],
   "source": [
    "def rag_query(query, n_results=3, model=\"llama2\", context_size=4096, temperature=0):\n",
    "    \"\"\"Pipeline RAG : récupère depuis ChromaDB et génère une réponse avec Ollama.\"\"\"\n",
    "    # Étape 1 : Récupérer les documents pertinents depuis ChromaDB\n",
    "    results = collection.query(\n",
    "        query_texts=[query],\n",
    "        n_results=n_results\n",
    "    )\n",
    "    \n",
    "    # Étape 2 : Formater le contexte à partir des documents récupérés\n",
    "    context = \"\"\n",
    "    for i, doc in enumerate(results[\"documents\"][0]):\n",
    "        context += f\"Document {i+1}:\\n{doc}\\n\\n\"\n",
    "    \n",
    "    # Étape 3 : Créer le prompt système avec le contexte\n",
    "    system_prompt = f\"\"\"Tu es un assistant utile qui répond aux questions en te basant sur le contexte fourni.\n",
    "    Si la réponse ne se trouve pas dans le contexte, réponds \"Je n'ai pas assez d'informations pour répondre à cette question.\"\n",
    "    \n",
    "    Contexte:\n",
    "    {context}\n",
    "    \"\"\"\n",
    "    \n",
    "    # Étape 4 : Créer le prompt utilisateur avec la question\n",
    "    user_prompt = f\"Question: {query}\"\n",
    "    \n",
    "    # Étape 5 : Configurer les options d'Ollama\n",
    "    opt = ollama.Options(num_ctx=context_size, temperature=temperature)\n",
    "    \n",
    "    # Étape 6 : Envoyer le prompt au modèle et obtenir la réponse\n",
    "    response = ollama.chat(\n",
    "        model=model,\n",
    "        options=opt,\n",
    "        messages=[\n",
    "            {\"role\": \"system\", \"content\": system_prompt},\n",
    "            {\"role\": \"user\", \"content\": user_prompt}\n",
    "        ]\n",
    "    )\n",
    "    \n",
    "    return {\n",
    "        \"query\": query,\n",
    "        \"context_docs\": results[\"documents\"][0],\n",
    "        \"answer\": response[\"message\"][\"content\"]\n",
    "    }\n"
   ]
  },
  {
   "cell_type": "code",
   "execution_count": 28,
   "metadata": {},
   "outputs": [
    {
     "name": "stdout",
     "output_type": "stream",
     "text": [
      "Question: Selon le texte, combien de colons étaient concernés par les indemnités réclamées ?\n",
      "\n",
      "Réponse: Selon le texte, le total des indemnités réclamées se montait à 2 450,810 fr. 73, à répartir entre **quatre-vingt-douze** colons.\n"
     ]
    }
   ],
   "source": [
    "query = \"Selon le texte, combien de colons étaient concernés par les indemnités réclamées ?\"\n",
    "result = rag_query(\n",
    "    query, \n",
    "    n_results=3, \n",
    "    model=\"gemma3:27b\", \n",
    "    context_size=20000, \n",
    "    temperature=0\n",
    ")\n",
    "print(\"Question:\", result[\"query\"])\n",
    "print(\"\\nRéponse:\", result[\"answer\"])"
   ]
  },
  {
   "cell_type": "code",
   "execution_count": 29,
   "metadata": {},
   "outputs": [
    {
     "name": "stdout",
     "output_type": "stream",
     "text": [
      "Question: Qui est le président de la séance ?\n",
      "\n",
      "Réponse: D'après le Document 2, le président de la séance est M. Dessaux, doyen d'âge.\n"
     ]
    }
   ],
   "source": [
    "query = \"Qui est le président de la séance ?\"\n",
    "result = rag_query(\n",
    "    query, \n",
    "    n_results=3, \n",
    "    model=\"gemma3:27b\", \n",
    "    context_size=20000, \n",
    "    temperature=0\n",
    ")\n",
    "print(\"Question:\", result[\"query\"])\n",
    "print(\"\\nRéponse:\", result[\"answer\"])"
   ]
  },
  {
   "cell_type": "markdown",
   "metadata": {},
   "source": [
    "## test\n"
   ]
  },
  {
   "cell_type": "code",
   "execution_count": 2,
   "metadata": {},
   "outputs": [],
   "source": [
    "query = \"'Qui est le président de la séance ?\"\n",
    "system_prompt = \"Tu es un assistant utile qui répond aux questions en te basant sur le contexte fourni. Si la réponse ne se trouve pas dans le contexte, réponds : Je n'ai pas assez d'informations pour répondre à cette question.\""
   ]
  },
  {
   "cell_type": "code",
   "execution_count": 3,
   "metadata": {},
   "outputs": [
    {
     "data": {
      "text/plain": [
       "[{'role': 'system',\n",
       "  'content': \"Tu es un assistant utile qui répond aux questions en te basant sur le contexte fourni. Si la réponse ne se trouve pas dans le contexte, réponds : Je n'ai pas assez d'informations pour répondre à cette question.\"},\n",
       " {'role': 'user',\n",
       "  'content': \"Context:\\nDocument 1:\\nALLOCUTION DE M. LE PRÉSIDENT D'AGE\\n\\nM. le président. Messieurs, je ne puis terminer la mission que le règlement m'a confiée.\\n\\nVoix à droite. Elle n'est pas terminée. M. le président.et laisser passer le commencement de notre dernière session sans vous remercier des marques de bienveillance dont vous avez honoré votre doyen d'âge. Ce sera pour moi un souvenir précieux ; je vous en exprime toute ma reconnaissance.\\n\\nQuel que soit le jugement que l'on porte sur les travaux de cette assemblée, on ne pourra contester ni son dévouement aux principes d'une sage et libérale démocratie, ni sa modération dans l'application de ces principes.\\n\\n(Réclamations à droite. — Non ! non ! à gauche.) EUe&su résister avec une égale fermeté aux entreprises réactionnaires. (Réclamations a droite) comme aux aspirations ultra radicales.\\n\\nSans doute, nous n'avons pas réalisé toutes les réformes que réclamait l'opinion publique; mais, pour compléter cette partie de notre tâche, nous lèguerons à nos successeurs de consciencieuses études. Paissent-ils, plus heureux que nous, voir le terme des discordes qui, depuis trop longtemps, ont agité notre pays, et dont le contre-coup a parfois retenti dans cette en.\\n\\nceinte. Puissent-ils rallier au principe du Gouvernement tous ceux que n'aveugle. pas la paso\\n\\nBion politique ; tousceuxqui, s'ils consultent leur patriotisme, doivent comprendre que l'avenir, Ja prospérité,!agrandeur de la France se rattachent, par des liens désormais in lissolubles, au maintien et à la consolidation de la République. (Vifs applaudissements à gauche et au centre.) M. Keller. Et de la liberté, surtout !\\n\\nUne voix à gauche. Pas comme vous l'entendez 1\\n\\nDocument 2:\\nPBÉSIDBNCB DE M. DESSBAUX, DOYEN D'AGE.\\n\\nLa séance est ouverte à deux heures dixminuttS.\\n\\nMDreyfas, l'un des secrétaires provisoires, donne lecture du procès-verbal de la séance du11janvier.\\n\\n- SI. Cuneo d'Ornano. Je demande la parole M. le président M. Cuneo d'Ornano a la parole fur le procès-verbal.\\n\\nM Cuneo d'Ornano. Messieurs, dans la dernière séance, qui a été la première de cette session, on a ajourné à la prochaine séance les scrutins pour la constitution du bureau; aajour- d'hui, je viens demander l'ajournement de ces scrutins. (Protestations nombreuses )Plusieursmembres au etntre et a gauche.\\n\\nMais vous ne parlez pas du procès-verbal!\\n\\nM le président. Vous ne parlez pas sur le procès-verbal. Je vais d'abord le mettre auxToix.\\n\\naU(Le procès-verbal est mis aux voix et adopté.) INCIDENT M. le président. Maintenant, monsieur Caneo d'Ornano, vous avez la parole.\\n\\nM.Cuneo d'Ornano. Voici pourquoi j ai l'honneur de demander à la Chambre de voaloir bien ajourner les scrutins pour la constitution de son bureau. Si nous procédons à la constitution du bureau ordinaire aujourd'hui, nous procéderons pour la cinquième tois à une opération de ce genre; or, nousliesommes nommés que pour quatre années. (Exclama-:tions et interruptionsàgauche.) Je comprends que cela déplaise à un grand nombre de mes collègues de la gauche; je comprends que cette proposition soit peu sé- durante pour eux ; mais la question n'est pas celle-là : la question est de,.,oirsi nous avons le droit de siéger une année de plus.\\n\\n(Nouvelles exclamations a gauche.) M. Peulevey. Ce n'est pas la question tK.Allain Targé. Ce n'est pas le moment de nous occuper de cette question.\\n\\nM. Cuneo d'Ornano. M. Allain large me dit que ce n'est pas le moment de poser cette question. Je vous demande pardon, et je vous demande aussi la permission de dire pourquoic'estla question.n;.&~oT<tMnMAlIatDTargé. Il faut précisément un bureau pour dscuter cettequtation-li,(Tièi-bien! très-bienIâgauche.)\\n\\nM. Cuneo d'Ornano. Nous avons, en novembre 1877, procélé pour la première fois à Sélection de notre bureau ordinaire, et nous avons procéié, pour la première fois aussi) au vot du bidget ordinaire de 1878.\\n\\nM. Peulevey. Il ne s'agit pas du budget !\\n\\nM. Cuneo d'Ornano. Si maintenant vous constituez votre bureau, ce sera le cinquième bureau ordinaire que vous nommerez.\\n\\nM. Allain Targé. Je répète qu'il faut un bureau pour discuter Ja question que vous po.\\n\\nsez. Je demande la question préalable. (Marques d'assentiment à gauche.) M. Cuneo d'Ornano. J'ajoute que si vous acceptez d'être saisis d'an nouveau budget, ce sera le cinquième budget ordinaire que vous voterez, et alors vous compléterez, par une usurpation nouvelle, les usurpations que, depuis 1870, la République a entreprises contre le suffrage universel. (Exclamations et mur.\\n\\nmures à gauche et au centre.) Je me borne à cette protestation, et devant1smanifestations de ce côté de la Chambre (L'orateur indique la gauche), qui parait redouter le verdict des électeurs, je déclare que, dès aujourd'hui, vous empiétez sur les droits du peuple souverain. (Nouvelles exclamations à gauche.) M. le président. Veuillez vous expliquer, monsieur Cuneo d'Ornano, sur ce que vous entendez dire en parlant d'usurpations depoilvoir.que vous reprochez à la Chambre.\\n\\nM. Guneo d'Ornano. L'honorable président me demande.\\n\\nUn membre à gauche. La question préalable!\\n\\nM. Cuneo d'Ornano. Non, il ne demande pas la question préalable. ,\\n\\nPlutiturs membres à gauche. C'est nous qui la demandons 1 M. Cuneo d'Ornano. Je comprends votre impatience et votre inquiétude, messieurs.\\n\\nPlusiturs membres à gauche. Vous faites perdre le temps de la Chambre.\\n\\nM. Cuneo d'Ornano. Non! la question n'est pas de vous faire perdre votre temps, c'est de ne pàs faite perdre du temps au pays qui est notre maître à tous.\\n\\nIl s'agit de savoir, —et la question est grave, — si notre mandat est épuisé, si vous êtes encore les représentants du pays.\\n\\nM. Allain-Targé. il faut un bureau pour discuter cela.\\n\\nM. le président. Monsieur Cuneo d'Ornano, veuillez répondre à la question que je vous ai adressée. Expliquez les paroles que vous avez prononcées. Persistez-vous à dire qu'en continuant ses travaux, la Chambre continuerait le cours de ses usurpations?\\n\\nM. Cuneo d'Ornano. M. le président me demande si je persiste à dire qu'en maintenant votre mandat pendant cette année, vous continueriez le cours des usurpations..* (A.\\n\\nl'ordre! à l'ordre!) Je réponds à M. le président.\\n\\nM. Chaley. Vous voulez entraver les travaux de la Chambre.\\n\\nM. Cuneo d'Ornano. Il ne s'agit pas des travaux de la Chambre. Si la Chambre n'a plus le droit de siéger, elle n'a pas de travaux a continuer, elle doit se dissoudre, se dis- perser, en appeler au peuple.\\n\\nM. Allain-Targé. Eh bien, dispersez-vous, en nous laissantvuter.\\n\\nVous n'avez pas le droit de parler.\\n\\nM. Paul Bert. Nous ne sommes plus au 2 décembre, monsieur ; nous nous disperserons quand le jour sera venu; vous n'avez pas, vous, à disperser l'Assemblée.\\n\\nM. Cuneo d'Ornano. On a discuté à la première séance.\\n\\nJe demande à M. Allain-Targé, qui parait plus particulièrement préoccupé d'aller devant le peuple, — il a sans doute des motifs pour cela - si on a discuté à la première séance ?\\n\\nOui.Pourquoi donc a-t-on discuté?\\n\\nsi, Allain-Targé, Je dis que ei nous n'a-\\n\\nvons pas le droit de constituer le bureau, vous n'avez pas le droit de garder la parole.\\n\\nM. Cuneo d'Ornano. Consentez-vousialler devant le pays? (Vives exclamations à gauche et au centre.) M. le président. Monsieur Cuneo d'Ornano, vous avez dirigé contre la Chambre des attaques qu'elle ne mérite pas, je vous rap.\\n\\npelle à l'ordre. (Très-bien ! très-bien l à gau.\\n\\nche.) M. Cuneo d'Ornano. Je n'insiste pas.\\n\\nFois diverses à gauche. A l'ordre 1 —Liquestion préalable ! — L'ordre du jour 1 l'ordre du jour !\\n\\nM. Cuneo d'Ornano. Je n'ai pas dit qua vous usurpiez, mais j'ai dit que vous alliez usurper le droit de suffrage universel; voilà ce que j'ai dit, et je le maintiens ] M. le président. Je mantiens le rappel à l'ordre. (Très-bien 1 très-bien 1) LETTRE DE M. LE MARQUIS DE VALFONS M. le président. J'ai reçu de M. le marquis de Valfons la lettre suivante : a Le 12 janvier 1881.\\n\\n1Monsieur le président,1Pendant trois ans, j'ai siégé comme secrétaire du bureau de la Chambre des députés.\\n\\n1Je viens aujourd'hui décliner toute candidature. M. Lorois, président du groupe auquel j'appartiens, a déjà été prévenu de ma résolution ; je l'ai prié de designer à la Chambre un autre de mes collègues pour un honneur qui ne doit pas être toujours exclusivement réservé à la même personne.\\n\\n1Recevez, monsieur le président, l'expression de mes sentiments respectueux.\\n\\nc Marquis DE VALFONS, « député du Gard. »\\n\\nDocument 3:\\n.\\n\\nQuery: 'Qui est le président de la séance ?\\n\\n\"}]"
      ]
     },
     "execution_count": 3,
     "metadata": {},
     "output_type": "execute_result"
    }
   ],
   "source": [
    "def query_documents(query, n_results=10):\n",
    "    \"\"\"Query documents from ChromaDB.\"\"\"\n",
    "    try:\n",
    "        results = collection.query(\n",
    "            query_texts=query,\n",
    "            n_results=n_results\n",
    "        )\n",
    "        return results[\"ids\"][0], results[\"documents\"][0]\n",
    "    except Exception as e:\n",
    "        raise Exception(f\"Error querying documents: {str(e)}\")\n",
    "    \n",
    "identifiants , docs = query_documents(query,3)\n",
    "context = \"\\n\\n\".join([f\"Document {i+1}:\\n{doc}\" for i, doc in enumerate(docs)])\n",
    "\n",
    "rag_messages = [\n",
    "                    {\"role\": \"system\", \"content\": system_prompt},\n",
    "                    {\"role\": \"user\", \"content\": f\"Context:\\n{context}\\n\\nQuery: {query}\\n\\n\"}\n",
    "                ]\n",
    "rag_messages"
   ]
  },
  {
   "cell_type": "code",
   "execution_count": 7,
   "metadata": {},
   "outputs": [
    {
     "name": "stdout",
     "output_type": "stream",
     "text": [
      "D'après le Document 2, le président de la séance est M. Dessaux, doyen d'âge.\n"
     ]
    }
   ],
   "source": [
    "response = get_ollama_response(\n",
    "                    model=\"gemma3:27b\",\n",
    "                    messages=rag_messages,\n",
    "                    system=system_prompt,\n",
    "                    temperature=0\n",
    "                )\n",
    "print(response)"
   ]
  },
  {
   "cell_type": "markdown",
   "metadata": {},
   "source": [
    "## renvoi de source"
   ]
  },
  {
   "cell_type": "code",
   "execution_count": 51,
   "metadata": {},
   "outputs": [],
   "source": [
    "from retrieval_app.config import SYSTEM_PROMPT_SOURCE \n",
    "query = \"Selon le texte, qui a été nommé commissaire à l'enquête par les pouvoirs de la colonie?\"\n",
    "\n",
    "def query_documents(query, n_results=10):\n",
    "    \"\"\"Query documents from ChromaDB.\"\"\"\n",
    "    try:\n",
    "        results = collection.query(\n",
    "            query_texts=query,\n",
    "            n_results=n_results\n",
    "        )\n",
    "        return results[\"ids\"][0], results[\"documents\"][0]\n",
    "    except Exception as e:\n",
    "        raise Exception(f\"Error querying documents: {str(e)}\")\n",
    "identifiants , docs = query_documents(query,3)"
   ]
  },
  {
   "cell_type": "code",
   "execution_count": 37,
   "metadata": {},
   "outputs": [],
   "source": [
    "SYSTEM_PROMPT = \"\"\"Tu es un expert en extraction précise d'informations à partir de documents. Ta tâche principale est de localiser avec une précision absolue la source exacte d'une réponse dans un ensemble de documents.\n",
    "\n",
    "Règles cruciales :\n",
    "1. Tu dois TOUJOURS renvoyer un dictionnaire Python\n",
    "2. Le dictionnaire DOIT contenir exactement deux clés :\n",
    "   - `document_id`: L'identifiant unique du document source\n",
    "   - `texte_source`: Le texte source EXACT sans aucune modification, correction ou reformulation\n",
    "3. Si aucune réponse n'est trouvée, les valeurs seront `None`\n",
    "4. Le texte source doit être copié mot pour mot depuis le document original\n",
    "5. la source renvoyée doit contenir tout le contexte nécessaire pour répondre à la question\"\"\""
   ]
  },
  {
   "cell_type": "code",
   "execution_count": 38,
   "metadata": {},
   "outputs": [
    {
     "name": "stdout",
     "output_type": "stream",
     "text": [
      "Voici les documents à analyser :\n",
      "Document 1881-01-20_008.txt:\n",
      "Toutes les autres objections présentées par M. l'ordonnateur nous paraissent avoir été résolues pertinemment dans la discussion la 22 novembre 1819, et s'il pouvait en rester quelque chose, ce serait l'imprelsion d'un excès, bien plus que d'un défaut de sévérité de la part de la commission d'enquête,d.mal'admission et la vérification des mémoires de dommages fournis par les colons. Mais, quoi qu'il en loit da ces contradictions, le caractère plu.\n",
      "\n",
      "tôt parcimonieux des évaluations de la souscommission est attesté finalement par l'opinion suprême du gouverneur de la co'onie, puisque, le 2 novembre 1879, M. le commandant Olry écrivait au ministre de la marine :cCe long travail a é.6 fait avec le soin le plus consciencieux, sous la direction de M. l'ordonnateur, par la commission composée en grande partie d'habitants. - les mémoires produits par les victimes de insurrection.\n",
      "\n",
      "ont été, après l'examen le plus attentif et le plus sévère, ramenés au chiff e de 908,432 fr.\n",
      "\n",
      "55 c.Ilest incontestable que c'estlàune appréciât on minimum des dommages éprouvés. »\n",
      "\n",
      "Sur ce point donc, il n'est permis de concevoir aucun doute. L'enquête véritlcative et estimative a é'é faite — dans toutes les conditions désirables, ou du moins réalisables en l'espèce, au point de vue de la constatation des faits et de l'appréciation de leurs conséquences — et dans les plus certaines conditions d'honorabilité comme d'impartialité, quant à la justice comparative et distributive à laquelle chacun avait drot.\n",
      "\n",
      "Voici quels ont été les résultats : les chiffres que nous allons transcrire sont, d'une part, ceux produits au nom des réclamants, et, de l'autre, ceux proviîoirement arrêtés par la sous-commission et ratifiés par la commission plécière.\n",
      "\n",
      "- Le total des indemnités rectamées se montait à 2 450,810 fr. 73, à répartir entre quatre vingt-douze colons. La plus forte perte affirmée a été de 518,400 fr. et la plus faible de 130 fr. La sous-commission a réduit le chiffre total à celui de 908,432 fr. 55.\n",
      "\n",
      "Et maintenant, que faut-il penser de cet écart entre le chiffre de la réclamation des colons et celui des estimations des commissaires àJ'enl{Qête?la pétition a t-elle pour but de réclamer la révision du travail, ou seulement de presser le vote par les Chambres et la distribution des indemnités arbitrées ? On penche volontiers pour ce dernier sentiment quand on lit dans le contexte même de la pétition :1Nous avons poussé un cri de détresse auquel n'est pas resté sourd le gouvernement de la co!onie. Par ses soins, une commission a été nommée dans le but de recueillir1erréclamations des colons, d'examiner leur titre à une indemnité, d'en déterminer le quantum pour chacun d'eux. Nous savons que1stravail de cette commission, aujourd'hui lormicé, va être adressé au ministre de la marine et des cololonies et que le gouvernement local est disposéj|à en appuyer fortement188conchUlom.\n",
      "\n",
      "«En remerciant M. le co'onel Olry d'avoir pris l'initiative de cette mesura réparatrice, nous éprouvons le besoin, messieurs les députés, de vous dire que le désastre de notre position est parvenu à son comble..\n",
      "\n",
      "Il pt vrai que les pétitionnaires ajoutent ;aVous reconnaîtrez, nous en sommes convaincus, combien l'indemnité que nous réclamons e t légitime..\n",
      "\n",
      "S'agit-il ici du principe ou du quantum de l'indemnité? C'est ce qu'il nous est difficile de juger; il va de soi que les indemnitaires aimeraient mieux le plus que le moins.\n",
      "\n",
      "Mais les éléments d'appréciation directe et personnelle nous manquent absolument, et les colons eux-mêmes n'ont fourni, dans le dosi er que nous avons en mains, rien autre chofe qu'on état imprimé, portant inventaire individuel de tous les dommages éprouvée sans aucune pièce à l'appui. Nous ne pouvons donc raisonnablement, comme nous yt-ommeadisposés d'ailleurs moratement, qu'admettre.\n",
      "\n",
      "les évaluations de la commission û'enquê-e ; estimant toutefois que. s'il y avait lieu de s'en écarter, ce serait pour en arrondir le chiffre total plutôt que pour l'écorner.\n",
      "\n",
      "Avant de conclure, il nous faut dire que, sur derx questions, nous ne saurions être en communauté de vues avec la commission et1rsautorités de l'île. L'une de ces questions est purement morale; l'autre, morale et juridique à la fois.\n",
      "\n",
      "Parmi les propriétés et les matériels dévas tés ou détroits par les insurgés, étaient eeux d'un sieur Bo z )t, décédé avant, pendant ou après la révolte : les documents ne le précisent pas.\n",
      "Document 1881-01-20_009.txt:\n",
      "M. Canque, curateur aux successions vacantes, agissant, non pas au nom des membres de la famille, tous disparus, mais dans l'intérêt. des créanciers et jusqu'à concurrence d'une somme de 101 308 fr. à eux dur, a pr.é la commission d'ei quête de vouloir bipn estimer la perte subie par la succession BMïot.\n",
      "\n",
      "Mais « la commission a été unanime pour reEousser le mémoire présenté de ce chtf par L. Canque»;dies'est déclarée < chargée d'apprécier les pertes subies par M. Boizot, mais non celles subies par ses créanciers.\n",
      "\n",
      "Une pareille décision nous semble au moins très-discutable, et, pour notre part, nous ne la saurions approuver. S'il est un axiome de droit incontesté, c'est que le créancier peut exercer tous les droitsdeton débiteur, et le représenter dans toute action en recouvre.\n",
      "\n",
      "ment, restitutions et réparations de toutes sortes, et des lors il est difficile de comprendre&quel titre ce qui serait reconnu comme légitimement dù, à un titre quelconque, à un citoyen, pourrait être refusé à ses créanciers légitimes aussi, sans que le droit et l'équité vulgaires en fussent également offensés. Et vainement ici dirait-on que le but de l'indemnité réparatrice est de récompenser des dommages, d'encourager le colon, le pionnier qui, par son t'avait, son courage, ses risques directs et personnels, va propager au loin le nom, l'influence, la puissance de la mère-patrie.\n",
      "\n",
      "Car si le capitaliste prêteur est colon luimême, exilé temporaire, lui aussi, du pays natal, associé courageux, entreprenant, aventureux, à l'œuvre commune, au nom duquel principe lui refusera t on l bénéfice commun de la sollicitude nationale? et si l'on accorde indemnité pour dommages soufferts, dans la culture ou dans l'industrie, à celui qui les a mises en œuvre de ses bras, en vertu de qu'elle justice la refuserait-on à celui sans !e\n",
      "\n",
      "concours; sans l'assistance voisine et sans les capitaux duquel, apportés par lui-même, cette culture et cette industrie n'eussent pas pu naître et s'organiser? Eh I quoi donc, au pays d'origine, sur la vieille terre nationale, en aucune circonstance on ne songerait à faire au créancier un sort de droit différent de celui fait au débiteur, et ce déni de justice deviendrait justice parce qu'il frapperait un ayantdroit honnête à l'autre bout du monde, et trouverait excuse dans l'effroyable désastre subi par une colonie tout entière !\n",
      "\n",
      "Les créances étaient-elles, dans l'espère, contestées, suspectes, usuraires, indignes de soutien 1 ileùtfallu le dire, ou tout au moins l'indiquer; mais on n'entend, ni n'aperçoit rien de semblable, et sans doute on ne le croirait pas volontiers, quand on voit l'un des créanciers, M. Rataboul, investi d'un mandat d'estime et de confiance par les pouvoirsmemes de la colonie qui le nomment commissaire à l'enquête. Arguer d'un pareil motif,àl'état vague de suspicion, et plus encore, ne se point inquiéter du défaut absolu de motif à l'appui d'une pareile décision, ce serait, il faut en convenir, une singulière façon d'inspirer aux capitaux le goût des voyages et des transports sur les vaisseaux d'un pays colonisateur. Et si l'on objectait qu'il s'agit là d'un octroi gracieux, mais non pas d'un droit qui se puisse imposer ; que si l'Etat veut bien accorder un secours, il n'entend pas devoir une indemnité; que ton intervention est donc pleinement libre, etquenul ne peut l'étendre au delà des limites marquées;par sa volonté, nous répondrions tout d'abord qu'à voir l'Etat s'esquiver de la sorte, l'équité serait mal satisfaite, et de plus, que l'Etat ne saurait donner cet exemple d'ap pliquer, dans l'exercice même de sa liberté d'appréciation, dans l'usage d'un droit moral, des principes diamétralement contraires à ceux que consacre le droit juridique auquel il a charge d'assurer force et respect.\n",
      "\n",
      "Nous- voici, d'ailleurs. conduits par cette question subsidiaire, au dernier point que nous avions à traiter. Les membres de la commission d'enquête, non fonctioonaires dans l'i'e, ont énergiquement protesté contre le caractère et l'expression de secours pour qualifier les allocations réclamées de l'Etat. M. D.nrnauds, l'un d'entre eux. et l'un des sinistrés, c se déclare tout prêt à accepter l'indemnité à laquelle il croit avoir droit ; mais il n'accepterait point de secours, et ses collégues s'associenthauLe.\n",
      "\n",
      "ment à sa déclaration.\n",
      "\n",
      "M. le commissaire ordonnateur, président, constate que le but de la grande majorité de la commission est d'ob'enir de l'Etat une indemnité de droit. Or le droit d'être indemnisé par l'Etat implique naturellement la responsabilité de l'Etat, et il ne saurait en accepter le principe. Il maintient donc le mot secours et demande l'insertion de ses appréciations au procès-verbal.\n",
      "\n",
      "Au contra.re, M. le directeur de l'intérieur « ne pense pas que le mot secours puisse re employé, e. il maintient le mot indemnité, sans vouloir en aucune façon engager aucune responsabilité. »\n",
      "\n",
      "11 n'y a la sans doute présentement pour les colons qu'une question de dignité, si, quelle qu'en soit l'appellation, i!s doivent, grâce à l'intervention de l'Etat, toucher le montant despercespar eux subies, telles qu'elles sont évaluées par la commission. Mais il pourrait y avoir davantage, selon les éventualités de l'avenir dans la colonie même ; et, pour l'Etat, l'admission d'un principe dont les conséquen-\n",
      "\n",
      "tesne saurai nt être bornées loca'emer tn'estcertes pas sans gr vi é.\n",
      "\n",
      "Lt minorité de la commission estimait,avecles pétitionnaires, que la révolte desindigène*n'a pas eu pour cause des querelles et desran.\n",
      "\n",
      "eunes particulières, mais un désir, une sotd'indépendance générale, amenée par lacon\"quête française impatiemment supportée; qu'en pareil cas « il y a preuve qu unpaYSétait occupé, mais non pas soumis ; etquedès lors, un gouvernement, en aliénantleiterres de ce paya aux colons qu'il avaitentrai*nés à sa suite, a vendu ce qu'il nepossédât*pas réellement. Qu'en dehors de lavente,l'tat doit être ici considéré commettuteur,ad.\n",
      "\n",
      "ministrateur des personnes et des biens1et,qu'en tant que ven leur, il doit être soumisautobligations du droit commun, c'est-à-dire,enl'espèce, à la garantie contre toute éviction.tOr, après avoir payé le prix da lachosflf>|après avoir fn outre acheté et payé laprQteC-ltion par l'acquittement de tous les impôtsda\"crêtés, les colons ont souffert d'une aéVIC\"tionàaussi complète et d'un < trouble dejouis.\n",
      "\n",
      "sanceàaussi profond que possible; etleurdroit à réparation, qui serait incontestableen*tre particuliers dans la mère-patrie, revêtuneforce nouvelle quand on compare lagrandeuret la puissance du vendeur à l'intimité de1'*'chteur; quand on songe aufaitdelacon*qcête récente, à ces dangers personnels, àcesmorts cruejles affrontées que rien ne répare,eaun mot à cet état précaire, douteux,menacétout plein de chances et de prévisionsguerroyautesau milieu desquelles s'est passélecontrat et s'est formé le lien juridiqued'acheteurà vendeur, entre les colons et l'Etat.\n",
      "\n",
      "Mais la majorité de la commission, touteadmettant la valeur morale de ces argumentan'a pas cru pouvoir leur en attribuer unejurdique assez décisive pour lui permettredeconclure en tranchant la question au sensditdroit absolu des colons. Le développementeles conséquences en fait du principeainsiposé, dans telle ou telle hypothèse, luiontparu trop graves p ur qu'elle pûts'associe*par un avis favorable aux exigences depureforme que la fierté des colons, touteleflpeC\"table qu'elle soit, les a poussées à mettreenavant. Et les énormesdommages,lesruine*même tiès souvent que, dans ladernièreguerre, se soat vu infliger tant deFranckde la mère-patrie, sans autredédommagementpossible que d'insuffisantes partsau*secours généraux du budget, défendaient àlacommission de reconnaître, mêmethéorique*ment, aux colons de Nouméa, ce droitabsoludont la non-satisfaction intégralemettraitalors la France elle-même, à leur égard,c0quelque sorte à l'état de débitriceinsolvable,La commission ne pouvait donc enl'espècfque refuser de reconnaître le bien fondé deI*prétention de droit formel à indemnité;mai*nous pensons qu'il y a lieu de conclure :\n",
      "\n",
      "teAu payement par l'Etat auxpétitionnaIresdes allocations individuelles fixées parleSévaluations arbitrales de l'enquête etconsidé\"rées comme un minimum ;2°A l'admission, dans les mêmesterme\"des mémoires de dommages présentés parM»Ganque au nomdesayants-droitdeM.Bai'zot, décédé, mais sous la réserve del'estilD..\n",
      "\n",
      "tion, d'ailleurs provoquée par M. Canquelu1*même.\n",
      "\n",
      "C'est dans cet ordre d'idées que la 17°corn'mission propose de renvoyer au miaistredela marine et des colonies ia pétitionnO1855,— (Renvoi au ministre de la marine etdeicolonies.)\n",
      "Document 1881-01-20_007.txt:\n",
      "HESOLUTION de la 17* commission des pti.\n",
      "\n",
      "tions, insérée dans le feuilleton du 2ddeembra1880, devenue définitive aux termes de l'article 66 du règlement.\n",
      "\n",
      "aArt. 66. — Tout député, dans le mois de la distribution du feuilleton, peut demander le rapport en séance pub ique d'une pétition, quel que soit le classement que la commission lui aitassigné.*\n",
      "\n",
      "t Sur sa demande, le rapport sera fait de plein droit.\n",
      "\n",
      "« Après l'expiration da délai ci-detsus indiqué, les résolutions de la commission devien* nent définitives à l'égard des pétitions qui ne doivent pas être l'objet d'un rapport public et elles sont mentionnées au Journal officiel.1DIX. SEPTIÈME COMMISSION M. Paul Casimir Perler, rapporteur.\n",
      "\n",
      "Pétition no 1855. (Déposée par M. de MA HT, député de la Réunion.) — Des colons de la Nouvelle-Calédonie, résidant à NOuméa, adreseent à la Chambte des députés l'expression de leurs souffrances et sollicitent une indemnité comme réparation des événements aussi funestes qu'inattendus dont la colonie n'a cessé d'être rrappée depuis cinq années : notamment une sécheresse de quatre années consé cutives et l'insorrection des Canaques, avec ses horreurs et ses ruines.\n",
      "\n",
      "Motifs delacommission. — Les pétition», *\n",
      "\n",
      "Ilikirespont tout destolün8libres qui sont allés porter dans la Nouvelle-Calédonie leur activité, leur industrie, leurs capitaux,ave\",leur courage etIt'!:resprit d'entreprise; i's méritent assurément l'intérêt, la gratitude même, et surtout la protection de la mèrepatrie. Il ne peut y avoir contestation sur le principe.DiiLiqueUemesure y font-ils appel, a quel point ont-ils justement apprécié leurs titres moraux si ce n'est leurs droits certains à la réparation des maux qu'ils ont soufferts ?\n",
      "\n",
      "Le préjudice a-t il été notoire et considérable?\n",
      "\n",
      "Les indemnités qu'on réclame sont-elles modérément calculées et proportionnées au pré- judicc ? Sont- ce bien enfin des indemnités ou des secours qui sont dus, et la France doitelle voir ici des créanciers ou des soUiciteurf, sympathiques d'ailleurs et respectables dans l'une ou l'autre hypothèse?\n",
      "\n",
      "Tels sont lesseulspoints pur lesquels nous ayons à faire porter l'examen des faits exposés dans la pétition.\n",
      "\n",
      "Il y a longtemps déjà qu'au dire de* péli.\n",
      "\n",
      "tionnaires une première cause de gêne était venue mettre en souffrance leurs intérêts Une évasion célèbre avait été l'occasion d'une sévère enquête, à la suite de laquelle l'expulsion d'un certain nombre de colons inoffensifs aurait eu pour conséquence immédiate le retrait des capitaux offerts au crédit sur la place de Nouméa. Pius tard (1),1une faillite prévue, mais qui n'en fut pas moins désastreuse pour le pays, le priva cette fois encore tdu numéraire dans un moment où il tn avait le plus pressant besoin. L'exploitation des mines dut être interrompue et nombre de bras inoccupés refluèrent vers la viHe — Une baisse considérable frappait en Europe le nickrl, un des produits importants de la colon:e.1— Pais enfin, par surcroit, quatre années de séche.\n",
      "\n",
      "resse consécutive « brûlaient l'herbe des pâturages1et réduisaient presque à néant«des cultures que chique fois, après le passage périodique des sauterelles, les colons agriculteurs renouvelaient avec persévérance ».\n",
      "\n",
      "Jusque-là, courageux et réiigns, les énergiques pionniers de la civilisation française dans la Nouvelle-Calédonie s'abstinrent de faire parvenir leurs doléances jusqeau Parlement : < Il leur semblait impossible qu'un changement prochain de cet état de choies ne lût pas pour eux un retour de fortune.1Mais un désastre plus terrible et plus funeste encore devait bientôt détruire toutes leurs espérances. En t878 survint la grande insurrection des Canaques. En prétence du massa- cre de leurs familles, du sac ou de la destruction de leurs demeures, du ravage de leurs cultures, du rapt ou de l'égorgement de leurs troupeaux, frappés de destruction, d'inceniïe, de ruine ou de mort, les colons ont enfin poussé vers les autorités locales etvcrsla mèrepatrie le cri de détresse qui nous arrive aujourd'hui.\n",
      "\n",
      "« Le gouvernement de la colonie n'y est pas resté sourd. » Une commission a été nommée par ses soins pour recueillir les ïéclamations des colons, les examiner, les contrôler, vérifier, supputer les titres et les dommages, et déterminer pour chacun d'eux le quantum des indemnités ou des secours qui devraient ou pourraient être accordés.\n",
      "\n",
      "Ainsi la réalité des sinistres dont les réclamantl ont été victimes est hors de conteste.\n",
      "\n",
      "Doublement établis par la notoriété des plus sanglantes catastrophes et par l'intervention même des autorités de l'tle au règlement provisoire des pertes subies, ces malheurs na nous laissent plus qu'à nous demander, non pas si l'Etat doit les rèpirer ou les atténuer en certaine me>ure, ce qui ne saurait faire doute à nos yeux, mal si les bises de réclamations présentés par les colons ainsi dépouillées ont acceptables, et s'il convient deleisaccueillir ou\n",
      "\n",
      "i(1) Tous les passages entre guillemets sont extraits du texte de la pétition ou des procèsverbaux et pièces y&nneê.\n",
      "\n",
      "d'en réduire l'importance; car il n'y a lieu pour la commission, dans cette occurrence, qu'à donner son avis sur un travail déjà fait à Nouméa, d'accord et de concert entre les représentants des colons et le gouvernement de la colonie, et transmis par ce dernier au ministre de la marine; le tout après une enquête et des débats contradictoires dont les procès-verbaux sont en nos mains.\n",
      "\n",
      "Nous avons dit plus haut qu'une commission avait été nommée par un arrêté du gouver- neur. Cet arrêté porte la date du 27 décembre 1878. La commission était composée du commissaire de la marine ordonnateur, M. Morau, président; du directeur des travaux de l'intérieur, M. Dutreuil, vice président; de MM Gauharou, sous chef de bureau, secrétaire; D zarnaulds, avocat; de Chanva!on notaire; Rataboul, négociant; Boutan, colon.\n",
      "\n",
      "Il fat toot d'abord reconnu qu'alorl même qu'une vérification sur place ne serait point,:)ardivers motifs, impraticable, elle serait\n",
      "\n",
      "inutile, illusoire, et, de plus, très-coû euse ; qu'il y fallait donc renoncer. On le comprendra d'autant mieux que les événements s'éta ent accomplis en juin 1878, et que les commissaires n'ont pu commencer leurs opéra lions qu'en juin 1879. Tous les propr étaires intéressés furent entendus et mis en demeure, toute i les pièces probantes exigées et fournies dans la mesure du possible, des témo ns appelés .et interrogés. Enfin, tous les membres de la commission adjoints aux représentants du pouvoir colonial, et dont deux figurent euxmêmes au nombre des victime* de l'insurrec tion et des réclamants, avaient une connaiasance personnelle des propriétés ravagées, de leurs dépendances, de leur outillage, soit agricole, soit industriel, connaissances largement suffisantes pour assurer le contrôle sérieux tt compétent des mémoires de dommages pro duits à l'enquête ; et quant au caractère, à la respectabilité des commissaires, nous ne saurions mieux faire que de reproduire les extraits ci-dessous du procès-verbal de la séance du 22 novembre 1879, tenue par la conmission d'enquête et d'expertise.\n",
      "\n",
      "On y lit d'abord ce qui suit :1LaEOUS.\n",
      "\n",
      "commission d'expertise déclare qu'elle a été si scrupuleuse dans ses appréciations, que le chiffre fixé pir elle est bien inférieur aux dommages causés par l'insurrection. Elle n'a con staté que les pertes matérielles. Maiscam.\n",
      "\n",
      "ment évaluer tous les dommages causés par l'insurrection? » — Et plus loin : « M. le di recteur de l'intérieur, viCe président, iit qu'il rend justice à la conscience, à l'irapirtialité avec lesquelles layojs-ommission aaconpli le mandat qui lui avait été confié. Il eslime quehperte subie par la colonie, du fait de l'msurrectjon, est supérieure au chiffre total des mé moires arrêtés par la commissioa*\n",
      "\n",
      "Et Mlecommissaire de la marine ordonnateur, président, c'ôt la séance en faisant connaître à la commission : « Qu'il strait heureux qu'elle voulût bien se joindre à lui pour exprimer ses remerciements à ceux de ses membres qui ont bien voulu se charger, en sous-commission, de la préparation de ce vo umineux travail.»1 Ce travail est signé par lesdits commissaireordonnateur, président, et directeur de l'intérieur, vice président. En présence de ces déclarations, on ne saurait attacher une réelle importance aux réserves maintenues par le même commissaire-ordonnateur, lorsqu'il écrivait, le 27 novembre 1879. à M le gouverneur de la Nouvelle-Calédonie : c Le travail. se résume aujourd'hui&l'état estimatif préparé par la sous-commissioaas sa dernière séance. Les réponses opposées à mes objections ne les on.P,tSfait disparaitre démon esprit Mais je ne sauras que représenter dans la circonstance une opinion isolée qui se fort fiera certainement, alors que tous les colons intéressés pourront se prononcer après avoir eu connaissance des\n",
      "\n",
      "appréciations de lasous-conmUsion.S'ilsont été, en effet, unanismes pour essayer d'égarerl'opinionpvib'iqu*enFrance,alors qu'ils comptaient se partager 3 ouimillions.ilSse diviseront sùrement en voyant que la répartit'on ne saurait porter que sur unesub..\n",
      "\n",
      "vention en rapport à une perte de 900.000 fr.\n",
      "\n",
      "La lumière sera donc faite par ceux-là mêmes qui ont cru avoir intérêt à la couvrir.\n",
      "\n",
      "Le scrupule mis en avant au cours de la discusion par l'honorable signataire de ces lignes, et fondé sur la méthode adoptée par les commissaires, en ce qui touchait à la présence des carcasses de gros bétail sur les proriétés, comme base d'attribution aux propriétaires des indemnités afférentes à fa perte des animaux, ce scrupule, disons-nous, réfuté d'ailleurs par la sous commission, ne saurait expliquer suffisamment le langige qUi nous venons de citer.\n",
      "\n",
      "Question à résoudre : hello\n",
      "\n",
      "Réponds UNIQUEMENT sous forme de dictionnaire Python en respectant strictement les règles suivantes :\n",
      "- Identifie le document source de la réponse\n",
      "- Copie le texte source mot pour mot\n",
      "- Ne modifie JAMAIS le texte original\n",
      "- La source renvoyée doit contenir suffisament de contexte pour pouvoir répondre à la question\n",
      "- Retourne un dictionnaire avec `document_id` et `texte_source`\n",
      "\n",
      "Exemple de format de réponse attendu :\n",
      "{\n",
      "    \"id du document\": 2,\n",
      "    \"texte_source\": \"Texte exact copié du document source\"\n",
      "}\n",
      "\n"
     ]
    }
   ],
   "source": [
    "def generer_prompt_utilisateur_local(identifiants,documents, query):\n",
    "\n",
    "    documents_numerotes = [f\"Document {i}:\\n{doc}\" for i, doc in zip(identifiants,documents)]\n",
    "    \n",
    "    prompt_utilisateur = f\"\"\"Voici les documents à analyser :\n",
    "{chr(10).join(documents_numerotes)}\n",
    "\n",
    "Question à résoudre : {query}\n",
    "\n",
    "Réponds UNIQUEMENT sous forme de dictionnaire Python en respectant strictement les règles suivantes :\n",
    "- Identifie le document source de la réponse\n",
    "- Copie le texte source mot pour mot\n",
    "- Ne modifie JAMAIS le texte original\n",
    "- La source renvoyée doit contenir suffisament de contexte pour pouvoir répondre à la question\n",
    "- Retourne un dictionnaire avec `document_id` et `texte_source`\n",
    "\n",
    "Exemple de format de réponse attendu :\n",
    "{{\n",
    "    \"id du document\": 2,\n",
    "    \"texte_source\": \"Texte exact copié du document source\"\n",
    "}}\n",
    "\"\"\"\n",
    "    \n",
    "    return prompt_utilisateur\n",
    "\n",
    "print(generer_prompt_utilisateur_local(identifiants,docs,\"hello\"))"
   ]
  },
  {
   "cell_type": "code",
   "execution_count": 52,
   "metadata": {},
   "outputs": [],
   "source": [
    "def extract_document_data(input_string):\n",
    "    \"\"\"\n",
    "    Extract data from a string containing a Python dictionary-like representation.\n",
    "    \n",
    "    Args:\n",
    "        input_string (str): Input string containing a Python dictionary.\n",
    "    \n",
    "    Returns:\n",
    "        dict: A dictionary containing document_id and texte_source\n",
    "    \"\"\"\n",
    "    try:\n",
    "        # Remove code block markers and leading/trailing whitespace\n",
    "        clean_string = input_string.strip('`').strip()\n",
    "        \n",
    "        # Remove 'python' identifier if present\n",
    "        if clean_string.startswith('python\\n'):\n",
    "            clean_string = clean_string[7:]\n",
    "        \n",
    "        # Use ast.literal_eval to safely parse the dictionary\n",
    "        parsed_dict = ast.literal_eval(clean_string.strip())\n",
    "        \n",
    "        # Ensure the result is a dictionary\n",
    "        if not isinstance(parsed_dict, dict):\n",
    "            raise ValueError(\"Parsed content is not a dictionary\")\n",
    "        \n",
    "        # Extract document_id and texte_source\n",
    "        document_id = parsed_dict.get('document_id')\n",
    "        texte_source = parsed_dict.get('texte_source')\n",
    "        \n",
    "        # If both are None, return the full dictionary\n",
    "        if document_id is None and texte_source is None:\n",
    "            return parsed_dict\n",
    "        \n",
    "        # Return a dictionary with the extracted values\n",
    "        return {\n",
    "            'document_id': document_id,\n",
    "            'texte_source': texte_source\n",
    "        }\n",
    "    \n",
    "    except (SyntaxError, ValueError, TypeError) as e:\n",
    "        # If parsing fails, return a dictionary with input as both document_id and texte_source\n",
    "        return {\n",
    "            'document_id': input_string,\n",
    "            'texte_source': input_string\n",
    "        }"
   ]
  },
  {
   "cell_type": "code",
   "execution_count": 50,
   "metadata": {},
   "outputs": [
    {
     "data": {
      "text/plain": [
       "'```python\\n{\\n   \"document_id\": \"1881-01-20_009.txt\",\\n   \"texte_source\": \"M. Canque, curateur aux successions vacantes, agissant, non pas au nom des membres de la famille, tous disparus, mais dans l\\'intérêt. des créanciers et jusqu\\'à concurrence d\\'une somme de 101 308 fr. à eux dur, a pr.é la commission d\\'ei quête de vouloir bipn estimer la perte subie par la succession BMïot.\\\\n\\\\nMais « la commission a été unanime pour reEousser le mémoire présenté de ce chtf par L. Canque»;dies\\'est déclarée < chargée d\\'apprécier les pertes subies par M. Boizot, mais non celles subies par ses créanciers.\\\\n\\\\nUne pareille décision nous semble au moins très-discutable, et, pour notre part, nous ne la saurions approuver. S\\'il est un axiome de droit incontesté, c\\'est que le créancier peut exercer tous les droitsdeton débiteur, et le représenter dans toute action en recouvre.\\\\n\\\\nment, restitutions et réparations de toutes sortes, et des lors il est difficile de comprendre&quel titre ce qui serait reconnu comme légitimement dû, à un titre quelconque, à un citoyen, pourrait être refusé à ses créanciers légitimes aussi, sans que le droit et l\\'équité vulgaires en fusent également offensés. Et vainement ici dirait-on que le but de l\\'indemnité réparatrice est de récompenser des dommages, d\\'encouager le colon, le pionnier qui, par son t\\'avait, son courage, ses risques directs et personnels, va propager au loin le nom, l\\'influenace, la puissance de la mère-patrie. \\\\n\\\\nCar si le capitaliste prêteur est colon luimême, exilé temporaire, lui aussi, du pays natal, associé couraieux, entrepreuant, aventureux, à l\\'œuvre commune, au nom duquel principe lui refuserait-on le bénéfice commun de la sollicitude nationale? et si l\\'on accorde indemnitée pour dommages soufferts, dans la culture ou dans l\\'industrie, à celui qui les a mises en œuvre de ses bras, en vertu de quelle justice la refuserait-on à celui sans !e\\\\n\\\\nconcours; sans l\\'assistance voisine et sans les capitaux duquel, apportés par lui-même, cette culture et cette industrie n\\'eusent pas pu naître et s\\'organiser? Eh ! quoi donc, au pays d\\'origine, sur la vieille terre nationale, en aucune circonstance on ne songerait à faire au créancier un sort de droit différent de celui fait au débiteur, et ce déni de justice deviendrait justice parce qu\\'il frapperait un ayant droit honnête à l\\'autre bout du monde, et trouverait excuse dans l\\'effroyable désastre subi par une colonie tout entière!\\\\n\\\\nLes créances étaient-elles, dans l\\'espère, contestées, suspectes, usuraires, indignes de soutien ? Il eût fallu le dire, ou tout au moins l\\'indiquer; mais on n\\'entend, ni n\\'aperçoit rien de semblable, et sans doute on ne le croirait pas volontiers, quand on voit l\\'un des créanciers, M. Rataboul, investi d\\'un mandat d\\'estime et de confiance par les pouvoirs mêmes de la colonie qui le nomment commissaire à l\\'enquête.\"\\n}\\n```'"
      ]
     },
     "execution_count": 50,
     "metadata": {},
     "output_type": "execute_result"
    }
   ],
   "source": [
    "source_messages = [\n",
    "                    {\"role\": \"system\", \"content\": SYSTEM_PROMPT},\n",
    "                    {\"role\": \"user\", \"content\": generer_prompt_utilisateur_local(identifiants,docs,query)}\n",
    "                ]\n",
    "source = get_ollama_response(model=\"gemma3:27b\",messages=source_messages,\n",
    "                                             system=SYSTEM_PROMPT_SOURCE,\n",
    "                                             temperature=0)\n",
    "source"
   ]
  },
  {
   "cell_type": "code",
   "execution_count": 62,
   "metadata": {},
   "outputs": [
    {
     "data": {
      "text/plain": [
       "{'document_id': '1881-01-20_009.txt',\n",
       " 'texte_source': \"M. Canque, curateur aux successions vacantes, agissant, non pas au nom des membres de la famille, tous disparus, mais dans l'intérêt. des créanciers et jusqu'à concurrence d'une somme de 101 308 fr. à eux dur, a pr.é la commission d'ei quête de vouloir bipn estimer la perte subie par la succession BMïot.\\n\\nMais « la commission a été unanime pour reEousser le mémoire présenté de ce chtf par L. Canque»;dies'est déclarée < chargée d'apprécier les pertes subies par M. Boizot, mais non celles subies par ses créanciers.\\n\\nUne pareille décision nous semble au moins très-discutable, et, pour notre part, nous ne la saurions approuver. S'il est un axiome de droit incontesté, c'est que le créancier peut exercer tous les droitsdeton débiteur, et le représenter dans toute action en recouvre.\\n\\nment, restitutions et réparations de toutes sortes, et des lors il est difficile de comprendre&quel titre ce qui serait reconnu comme légitimement dû, à un titre quelconque, à un citoyen, pourrait être refusé à ses créanciers légitimes aussi, sans que le droit et l'équité vulgaires en fusent également offensés. Et vainement ici dirait-on que le but de l'indemnité réparatrice est de récompenser des dommages, d'encouager le colon, le pionnier qui, par son t'avait, son courage, ses risques directs et personnels, va propager au loin le nom, l'influenace, la puissance de la mère-patrie. \\n\\nCar si le capitaliste prêteur est colon luimême, exilé temporaire, lui aussi, du pays natal, associé couraieux, entrepreuant, aventureux, à l'œuvre commune, au nom duquel principe lui refuserait-on le bénéfice commun de la sollicitude nationale? et si l'on accorde indemnitée pour dommages soufferts, dans la culture ou dans l'industrie, à celui qui les a mises en œuvre de ses bras, en vertu de quelle justice la refuserait-on à celui sans !e\\n\\nconcours; sans l'assistance voisine et sans les capitaux duquel, apportés par lui-même, cette culture et cette industrie n'eusent pas pu naître et s'organiser? Eh ! quoi donc, au pays d'origine, sur la vieille terre nationale, en aucune circonstance on ne songerait à faire au créancier un sort de droit différent de celui fait au débiteur, et ce déni de justice deviendrait justice parce qu'il frapperait un ayant droit honnête à l'autre bout du monde, et trouverait excuse dans l'effroyable désastre subi par une colonie tout entière!\\n\\nLes créances étaient-elles, dans l'espère, contestées, suspectes, usuraires, indignes de soutien ? Il eût fallu le dire, ou tout au moins l'indiquer; mais on n'entend, ni n'aperçoit rien de semblable, et sans doute on ne le croirait pas volontiers, quand on voit l'un des créanciers, M. Rataboul, investi d'un mandat d'estime et de confiance par les pouvoirs mêmes de la colonie qui le nomment commissaire à l'enquête.\"}"
      ]
     },
     "execution_count": 62,
     "metadata": {},
     "output_type": "execute_result"
    }
   ],
   "source": [
    "parsed_source = extract_document_data(source)\n",
    "parsed_source"
   ]
  },
  {
   "cell_type": "code",
   "execution_count": 63,
   "metadata": {},
   "outputs": [],
   "source": [
    "id_doc , doc = query_documents(query = parsed_source[\"texte_source\"],n_results=1)"
   ]
  },
  {
   "cell_type": "code",
   "execution_count": 66,
   "metadata": {},
   "outputs": [
    {
     "data": {
      "text/plain": [
       "'M. Canque, curateur aux successions vacantes, agissant, non pas au nom des membres de la famille, tous disparus, mais dans l\\'intérêt. des créanciers et jusqu\\'à concurrence d\\'une somme de 101 308 fr. à eux dur, a pr.é la commission d\\'ei quête de vouloir bipn estimer la perte subie par la succession BMïot.\\n\\nMais « la commission a été unanime pour reEousser le mémoire présenté de ce chtf par L. Canque»;dies\\'est déclarée < chargée d\\'apprécier les pertes subies par M. Boizot, mais non celles subies par ses créanciers.\\n\\nUne pareille décision nous semble au moins très-discutable, et, pour notre part, nous ne la saurions approuver. S\\'il est un axiome de droit incontesté, c\\'est que le créancier peut exercer tous les droitsdeton débiteur, et le représenter dans toute action en recouvre.\\n\\nment, restitutions et réparations de toutes sortes, et des lors il est difficile de comprendre&quel titre ce qui serait reconnu comme légitimement dù, à un titre quelconque, à un citoyen, pourrait être refusé à ses créanciers légitimes aussi, sans que le droit et l\\'équité vulgaires en fussent également offensés. Et vainement ici dirait-on que le but de l\\'indemnité réparatrice est de récompenser des dommages, d\\'encourager le colon, le pionnier qui, par son t\\'avait, son courage, ses risques directs et personnels, va propager au loin le nom, l\\'influence, la puissance de la mère-patrie.\\n\\nCar si le capitaliste prêteur est colon luimême, exilé temporaire, lui aussi, du pays natal, associé courageux, entreprenant, aventureux, à l\\'œuvre commune, au nom duquel principe lui refusera t on l bénéfice commun de la sollicitude nationale? et si l\\'on accorde indemnité pour dommages soufferts, dans la culture ou dans l\\'industrie, à celui qui les a mises en œuvre de ses bras, en vertu de qu\\'elle justice la refuserait-on à celui sans !e\\n\\nconcours; sans l\\'assistance voisine et sans les capitaux duquel, apportés par lui-même, cette culture et cette industrie n\\'eussent pas pu naître et s\\'organiser? Eh I quoi donc, au pays d\\'origine, sur la vieille terre nationale, en aucune circonstance on ne songerait à faire au créancier un sort de droit différent de celui fait au débiteur, et ce déni de justice deviendrait justice parce qu\\'il frapperait un ayantdroit honnête à l\\'autre bout du monde, et trouverait excuse dans l\\'effroyable désastre subi par une colonie tout entière !\\n\\nLes créances étaient-elles, dans l\\'espère, contestées, suspectes, usuraires, indignes de soutien 1 ileùtfallu le dire, ou tout au moins l\\'indiquer; mais on n\\'entend, ni n\\'aperçoit rien de semblable, et sans doute on ne le croirait pas volontiers, quand on voit l\\'un des créanciers, M. Rataboul, investi d\\'un mandat d\\'estime et de confiance par les pouvoirsmemes de la colonie qui le nomment commissaire à l\\'enquête. Arguer d\\'un pareil motif,àl\\'état vague de suspicion, et plus encore, ne se point inquiéter du défaut absolu de motif à l\\'appui d\\'une pareile décision, ce serait, il faut en convenir, une singulière façon d\\'inspirer aux capitaux le goût des voyages et des transports sur les vaisseaux d\\'un pays colonisateur. Et si l\\'on objectait qu\\'il s\\'agit là d\\'un octroi gracieux, mais non pas d\\'un droit qui se puisse imposer ; que si l\\'Etat veut bien accorder un secours, il n\\'entend pas devoir une indemnité; que ton intervention est donc pleinement libre, etquenul ne peut l\\'étendre au delà des limites marquées;par sa volonté, nous répondrions tout d\\'abord qu\\'à voir l\\'Etat s\\'esquiver de la sorte, l\\'équité serait mal satisfaite, et de plus, que l\\'Etat ne saurait donner cet exemple d\\'ap pliquer, dans l\\'exercice même de sa liberté d\\'appréciation, dans l\\'usage d\\'un droit moral, des principes diamétralement contraires à ceux que consacre le droit juridique auquel il a charge d\\'assurer force et respect.\\n\\nNous- voici, d\\'ailleurs. conduits par cette question subsidiaire, au dernier point que nous avions à traiter. Les membres de la commission d\\'enquête, non fonctioonaires dans l\\'i\\'e, ont énergiquement protesté contre le caractère et l\\'expression de secours pour qualifier les allocations réclamées de l\\'Etat. M. D.nrnauds, l\\'un d\\'entre eux. et l\\'un des sinistrés, c se déclare tout prêt à accepter l\\'indemnité à laquelle il croit avoir droit ; mais il n\\'accepterait point de secours, et ses collégues s\\'associenthauLe.\\n\\nment à sa déclaration.\\n\\nM. le commissaire ordonnateur, président, constate que le but de la grande majorité de la commission est d\\'ob\\'enir de l\\'Etat une indemnité de droit. Or le droit d\\'être indemnisé par l\\'Etat implique naturellement la responsabilité de l\\'Etat, et il ne saurait en accepter le principe. Il maintient donc le mot secours et demande l\\'insertion de ses appréciations au procès-verbal.\\n\\nAu contra.re, M. le directeur de l\\'intérieur « ne pense pas que le mot secours puisse re employé, e. il maintient le mot indemnité, sans vouloir en aucune façon engager aucune responsabilité. »\\n\\n11 n\\'y a la sans doute présentement pour les colons qu\\'une question de dignité, si, quelle qu\\'en soit l\\'appellation, i!s doivent, grâce à l\\'intervention de l\\'Etat, toucher le montant despercespar eux subies, telles qu\\'elles sont évaluées par la commission. Mais il pourrait y avoir davantage, selon les éventualités de l\\'avenir dans la colonie même ; et, pour l\\'Etat, l\\'admission d\\'un principe dont les conséquen-\\n\\ntesne saurai nt être bornées loca\\'emer tn\\'estcertes pas sans gr vi é.\\n\\nLt minorité de la commission estimait,avecles pétitionnaires, que la révolte desindigène*n\\'a pas eu pour cause des querelles et desran.\\n\\neunes particulières, mais un désir, une sotd\\'indépendance générale, amenée par lacon\"quête française impatiemment supportée; qu\\'en pareil cas « il y a preuve qu unpaYSétait occupé, mais non pas soumis ; etquedès lors, un gouvernement, en aliénantleiterres de ce paya aux colons qu\\'il avaitentrai*nés à sa suite, a vendu ce qu\\'il nepossédât*pas réellement. Qu\\'en dehors de lavente,l\\'tat doit être ici considéré commettuteur,ad.\\n\\nministrateur des personnes et des biens1et,qu\\'en tant que ven leur, il doit être soumisautobligations du droit commun, c\\'est-à-dire,enl\\'espèce, à la garantie contre toute éviction.tOr, après avoir payé le prix da lachosflf>|après avoir fn outre acheté et payé laprQteC-ltion par l\\'acquittement de tous les impôtsda\"crêtés, les colons ont souffert d\\'une aéVIC\"tionàaussi complète et d\\'un < trouble dejouis.\\n\\nsanceàaussi profond que possible; etleurdroit à réparation, qui serait incontestableen*tre particuliers dans la mère-patrie, revêtuneforce nouvelle quand on compare lagrandeuret la puissance du vendeur à l\\'intimité de1\\'*\\'chteur; quand on songe aufaitdelacon*qcête récente, à ces dangers personnels, àcesmorts cruejles affrontées que rien ne répare,eaun mot à cet état précaire, douteux,menacétout plein de chances et de prévisionsguerroyautesau milieu desquelles s\\'est passélecontrat et s\\'est formé le lien juridiqued\\'acheteurà vendeur, entre les colons et l\\'Etat.\\n\\nMais la majorité de la commission, touteadmettant la valeur morale de ces argumentan\\'a pas cru pouvoir leur en attribuer unejurdique assez décisive pour lui permettredeconclure en tranchant la question au sensditdroit absolu des colons. Le développementeles conséquences en fait du principeainsiposé, dans telle ou telle hypothèse, luiontparu trop graves p ur qu\\'elle pûts\\'associe*par un avis favorable aux exigences depureforme que la fierté des colons, touteleflpeC\"table qu\\'elle soit, les a poussées à mettreenavant. Et les énormesdommages,lesruine*même tiès souvent que, dans ladernièreguerre, se soat vu infliger tant deFranckde la mère-patrie, sans autredédommagementpossible que d\\'insuffisantes partsau*secours généraux du budget, défendaient àlacommission de reconnaître, mêmethéorique*ment, aux colons de Nouméa, ce droitabsoludont la non-satisfaction intégralemettraitalors la France elle-même, à leur égard,c0quelque sorte à l\\'état de débitriceinsolvable,La commission ne pouvait donc enl\\'espècfque refuser de reconnaître le bien fondé deI*prétention de droit formel à indemnité;mai*nous pensons qu\\'il y a lieu de conclure :\\n\\nteAu payement par l\\'Etat auxpétitionnaIresdes allocations individuelles fixées parleSévaluations arbitrales de l\\'enquête etconsidé\"rées comme un minimum ;2°A l\\'admission, dans les mêmesterme\"des mémoires de dommages présentés parM»Ganque au nomdesayants-droitdeM.Bai\\'zot, décédé, mais sous la réserve del\\'estilD..\\n\\ntion, d\\'ailleurs provoquée par M. Canquelu1*même.\\n\\nC\\'est dans cet ordre d\\'idées que la 17°corn\\'mission propose de renvoyer au miaistredela marine et des colonies ia pétitionnO1855,— (Renvoi au ministre de la marine etdeicolonies.)'"
      ]
     },
     "execution_count": 66,
     "metadata": {},
     "output_type": "execute_result"
    }
   ],
   "source": [
    "doc[0]"
   ]
  },
  {
   "cell_type": "code",
   "execution_count": 59,
   "metadata": {},
   "outputs": [
    {
     "data": {
      "text/plain": [
       "['1881-01-20_009.txt']"
      ]
     },
     "execution_count": 59,
     "metadata": {},
     "output_type": "execute_result"
    }
   ],
   "source": [
    "query_documents(query = parsed_string[\"texte_source\"],n_results=1)[0]"
   ]
  },
  {
   "cell_type": "code",
   "execution_count": 33,
   "metadata": {},
   "outputs": [
    {
     "data": {
      "text/plain": [
       "{'document_id': '1881-01-20_001.txt',\n",
       " 'texte_source': 'CHAMBRE DES DÉPUTÉS Session ordinaire de 1881'}"
      ]
     },
     "execution_count": 33,
     "metadata": {},
     "output_type": "execute_result"
    }
   ],
   "source": [
    "parsed_string = extract_data_from_string(source)\n",
    "parsed_string"
   ]
  },
  {
   "cell_type": "code",
   "execution_count": 29,
   "metadata": {},
   "outputs": [
    {
     "name": "stdout",
     "output_type": "stream",
     "text": [
      "df\n"
     ]
    }
   ],
   "source": [
    "print_document_id(\"df\")"
   ]
  },
  {
   "cell_type": "code",
   "execution_count": 35,
   "metadata": {},
   "outputs": [
    {
     "data": {
      "text/plain": [
       "'1881-01-20_001.txt'"
      ]
     },
     "execution_count": 35,
     "metadata": {},
     "output_type": "execute_result"
    }
   ],
   "source": [
    "def print_document_id(result):\n",
    "    \"\"\"\n",
    "    Print the document_id if it exists in the dictionary, \n",
    "    otherwise print the full input string.\n",
    "    \n",
    "    Args:\n",
    "        result (dict or str): Result from extract_data_from_string\n",
    "    \"\"\"\n",
    "    if isinstance(result, dict):\n",
    "        # If result is a dictionary, try to print document_id\n",
    "        document_id = result.get('document_id')\n",
    "        if document_id is not None :\n",
    "            return document_id\n",
    "        else :\n",
    "            return result\n",
    "        print(document_id if document_id is not None else result)\n",
    "    else:\n",
    "        # If result is not a dictionary, print the full input string\n",
    "        return result\n",
    "\n",
    "print_document_id(parsed_string)"
   ]
  },
  {
   "cell_type": "code",
   "execution_count": null,
   "metadata": {},
   "outputs": [],
   "source": [
    "parsed_source =extract_data_from_string\n",
    "                parsed_source_id = print_document_id(parsed_source)"
   ]
  }
 ],
 "metadata": {
  "kernelspec": {
   "display_name": "debattre-generate-questions",
   "language": "python",
   "name": "python3"
  },
  "language_info": {
   "codemirror_mode": {
    "name": "ipython",
    "version": 3
   },
   "file_extension": ".py",
   "mimetype": "text/x-python",
   "name": "python",
   "nbconvert_exporter": "python",
   "pygments_lexer": "ipython3",
   "version": "3.13.2"
  }
 },
 "nbformat": 4,
 "nbformat_minor": 2
}
